{
 "cells": [
  {
   "cell_type": "markdown",
   "id": "6b52a44f-c10e-498e-95cd-a93328f0991f",
   "metadata": {},
   "source": [
    "## Dragon Curve implementation\n",
    "\n",
    "According to the Wikipedia:\n",
    "\n",
    "_The folding patterns of this sequence of paper strips, as sequences of right (R) and left (L) folds, are:_\n",
    "\n",
    "- 1st iteration: `R`\n",
    "- 2nd iteration: `RRL`\n",
    "- 3rd iteration: `RRLRRLL`\n",
    "- 4th iteration: `RRLRRLLRRRLLRLL`\n",
    "\n",
    "_Each iteration can be found by copying the previous iteration, then an R, then a second copy of the previous iteration in reverse order with the L and R letters swapped._\n",
    "\n",
    "Let us now implement formation of such sequences"
   ]
  },
  {
   "cell_type": "code",
   "execution_count": 1,
   "id": "0bca9d67-5880-4341-9c4d-04a7725575aa",
   "metadata": {},
   "outputs": [],
   "source": [
    "class DragonCurveSequence:\n",
    "    def __init__(self, initial_sequence):\n",
    "        self.sequence = initial_sequence\n",
    "    \n",
    "    def swap_letters(self, sequence: str) -> str:\n",
    "        swapped_sequence = ''\n",
    "        \n",
    "        for character in sequence:\n",
    "            if character == 'R':\n",
    "                swapped_sequence += 'L'\n",
    "            elif character == 'L':\n",
    "                swapped_sequence += 'R'\n",
    "            else:\n",
    "                swapped_sequence += character\n",
    "                \n",
    "        return swapped_sequence\n",
    "\n",
    "    def iterate(self):\n",
    "        self.sequence = self.sequence + 'R' + self.swap_letters(self.sequence)[::-1] \n",
    "        \n",
    "    def get_sequence(self):\n",
    "        return self.sequence"
   ]
  },
  {
   "cell_type": "code",
   "execution_count": 2,
   "id": "4b6be2ed-d513-4ded-a376-7b23c7eda209",
   "metadata": {},
   "outputs": [
    {
     "name": "stdout",
     "output_type": "stream",
     "text": [
      "Iteration #1: R\n",
      "Iteration #2: RRL\n",
      "Iteration #3: RRLRRLL\n",
      "Iteration #4: RRLRRLLRRRLLRLL\n",
      "Iteration #5: RRLRRLLRRRLLRLLRRRLRRLLLRRLLRLL\n"
     ]
    }
   ],
   "source": [
    "dragon_curve = DragonCurveSequence('R')\n",
    "for n in range(5):\n",
    "    print('Iteration #{}: {}'.format(n + 1, dragon_curve.get_sequence()))\n",
    "    dragon_curve.iterate()"
   ]
  },
  {
   "cell_type": "markdown",
   "id": "72ed8694-063b-409f-9009-b8ed76b351c7",
   "metadata": {},
   "source": [
    "### Graphics"
   ]
  },
  {
   "cell_type": "code",
   "execution_count": 3,
   "id": "a9354506-9271-49d7-947c-5db8237242a0",
   "metadata": {},
   "outputs": [],
   "source": [
    "# We need just a turtle package\n",
    "import turtle\n",
    "import time\n",
    "\n",
    "# Configurable parameters:\n",
    "# Turtle settings:\n",
    "turtle_speed = 'fastest'\n",
    "turtle_color = 'pink'\n",
    "background_color = 'black'\n",
    "\n",
    "# Screen settings\n",
    "screen_title = 'Dragon Curve'\n",
    "screen_width = 1000\n",
    "screen_height = 1000\n",
    "\n",
    "# Curve settings:\n",
    "step_size = 10\n",
    "steps_number = 10\n",
    "initial_sequence = 'RRL'\n",
    "\n",
    "# Other:\n",
    "timeout_after_finish = 3"
   ]
  },
  {
   "cell_type": "code",
   "execution_count": 4,
   "id": "32b59e2b-d866-423e-bff2-3ed543d56674",
   "metadata": {},
   "outputs": [
    {
     "ename": "Terminator",
     "evalue": "",
     "output_type": "error",
     "traceback": [
      "\u001b[0;31m---------------------------------------------------------------------------\u001b[0m",
      "\u001b[0;31mTerminator\u001b[0m                                Traceback (most recent call last)",
      "Input \u001b[0;32mIn [4]\u001b[0m, in \u001b[0;36m<cell line: 16>\u001b[0;34m()\u001b[0m\n\u001b[1;32m     21\u001b[0m         \u001b[38;5;28;01mif\u001b[39;00m character \u001b[38;5;241m==\u001b[39m \u001b[38;5;124m'\u001b[39m\u001b[38;5;124mL\u001b[39m\u001b[38;5;124m'\u001b[39m:\n\u001b[1;32m     22\u001b[0m             turtle\u001b[38;5;241m.\u001b[39mleft(\u001b[38;5;241m90\u001b[39m)\n\u001b[0;32m---> 23\u001b[0m             \u001b[43mturtle\u001b[49m\u001b[38;5;241;43m.\u001b[39;49m\u001b[43mforward\u001b[49m\u001b[43m(\u001b[49m\u001b[43mstep_size\u001b[49m\u001b[43m)\u001b[49m\n\u001b[1;32m     24\u001b[0m     dragon_curve\u001b[38;5;241m.\u001b[39miterate()\n\u001b[1;32m     26\u001b[0m \u001b[38;5;66;03m# Closing the window after timeout_after_finish seconds\u001b[39;00m\n",
      "File \u001b[0;32m<string>:5\u001b[0m, in \u001b[0;36mforward\u001b[0;34m(distance)\u001b[0m\n",
      "\u001b[0;31mTerminator\u001b[0m: "
     ]
    }
   ],
   "source": [
    "# Setupping the screen\n",
    "screen = turtle.Screen()\n",
    "screen.title(screen_title)\n",
    "screen.bgcolor(background_color)\n",
    "screen.setup(width=screen_width, height=screen_height, startx = None, starty = None)\n",
    "\n",
    "# Setupping the turtle\n",
    "turtle.hideturtle()\n",
    "turtle.speed(turtle_speed)\n",
    "turtle.color(turtle_color)\n",
    "\n",
    "# Actually drawing the curve\n",
    "dragon_curve = DragonCurveSequence(initial_sequence)\n",
    "\n",
    "turtle.forward(step_size)\n",
    "for _ in range(steps_number):\n",
    "    for character in dragon_curve.get_sequence():\n",
    "        if character == 'R':\n",
    "            turtle.right(90)\n",
    "            turtle.forward(step_size)\n",
    "        if character == 'L':\n",
    "            turtle.left(90)\n",
    "            turtle.forward(step_size)\n",
    "    dragon_curve.iterate()\n",
    "\n",
    "# Closing the window after timeout_after_finish seconds\n",
    "time.sleep(timeout_after_finish)\n",
    "screen.bye()"
   ]
  }
 ],
 "metadata": {
  "kernelspec": {
   "display_name": "newest",
   "language": "python",
   "name": "newest"
  },
  "language_info": {
   "codemirror_mode": {
    "name": "ipython",
    "version": 3
   },
   "file_extension": ".py",
   "mimetype": "text/x-python",
   "name": "python",
   "nbconvert_exporter": "python",
   "pygments_lexer": "ipython3",
   "version": "3.10.4"
  }
 },
 "nbformat": 4,
 "nbformat_minor": 5
}
