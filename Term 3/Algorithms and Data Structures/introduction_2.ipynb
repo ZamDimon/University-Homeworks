{
 "cells": [
  {
   "cell_type": "markdown",
   "id": "7c7ccd6c-0278-4b06-a762-58f0e8be0c33",
   "metadata": {},
   "source": [
    "# Homework Assignment 2"
   ]
  },
  {
   "cell_type": "code",
   "execution_count": 1,
   "id": "5c29cc41",
   "metadata": {},
   "outputs": [],
   "source": [
    "import numpy as np\n",
    "import tester"
   ]
  },
  {
   "cell_type": "markdown",
   "id": "29ea8202-f2bc-4eb9-b77b-07d4055d80d9",
   "metadata": {
    "tags": []
   },
   "source": [
    "### Library for testing\n",
    "\n",
    "It hasn't changed drastically since the previous assignment"
   ]
  },
  {
   "cell_type": "markdown",
   "id": "7d9fb6e8-df5b-48fc-9a17-112ef5ae02cd",
   "metadata": {},
   "source": [
    "### Task 1"
   ]
  },
  {
   "cell_type": "code",
   "execution_count": 2,
   "id": "db78b52a-fb72-4ea5-9085-3f5025403eef",
   "metadata": {},
   "outputs": [
    {
     "name": "stdout",
     "output_type": "stream",
     "text": [
      "Testing task_1...\n",
      "#0: CORRECT ANSWER\n",
      "#1: CORRECT ANSWER\n",
      "#2: CORRECT ANSWER\n",
      "#3: CORRECT ANSWER\n"
     ]
    }
   ],
   "source": [
    "def task_1(numbers):\n",
    "    for number in numbers:\n",
    "        assert isinstance(number, int), \"Number {} is not an integer\".format(number)\n",
    "    \n",
    "    return np.max(numbers) - np.min(numbers)\n",
    "\n",
    "task_1_testing_client = tester.Client(\n",
    "    [[1, 2], [1, 2, 3], [2, 10, 5, 1], [3, 1, 10]], [1, 2, 9, 9])\n",
    "\n",
    "task_1_testing_client.test(\"task_1\", task_1)"
   ]
  },
  {
   "cell_type": "markdown",
   "id": "2e52623f-3af4-4356-bf98-9ba8c5e38799",
   "metadata": {},
   "source": [
    "### Task 2"
   ]
  },
  {
   "cell_type": "code",
   "execution_count": 3,
   "id": "3caa5b04-b066-41fd-93f4-f7083c0f4e3c",
   "metadata": {},
   "outputs": [
    {
     "name": "stdout",
     "output_type": "stream",
     "text": [
      "Testing task_2...\n",
      "#0: CORRECT ANSWER\n",
      "#1: CORRECT ANSWER\n",
      "#2: CORRECT ANSWER\n",
      "#3: CORRECT ANSWER\n",
      "#4: CORRECT ANSWER\n"
     ]
    }
   ],
   "source": [
    "def task_2(numbers):\n",
    "    for number in numbers:\n",
    "        assert isinstance(number, int), \"Number {} is not an integer\".format(number)\n",
    "    \n",
    "    return np.sum(numbers[:min(len(numbers), 3)])\n",
    "    \n",
    "task_2_testing_client = tester.Client(\n",
    "    [[3, 4, 5], [1, 2, 3, 4, 5], [3, 4], [2], []], \n",
    "    [12, 6, 7, 2, 0])\n",
    "\n",
    "task_2_testing_client.test(\"task_2\", task_2)"
   ]
  },
  {
   "cell_type": "markdown",
   "id": "407f43a7-5863-4a65-bf1d-45bc96f746c5",
   "metadata": {},
   "source": [
    "### Task 3"
   ]
  },
  {
   "cell_type": "code",
   "execution_count": 4,
   "id": "790af975-f215-48e5-8138-28913124047b",
   "metadata": {},
   "outputs": [
    {
     "name": "stdout",
     "output_type": "stream",
     "text": [
      "Testing task_3...\n",
      "#0: CORRECT ANSWER\n",
      "#1: CORRECT ANSWER\n",
      "#2: CORRECT ANSWER\n",
      "#3: CORRECT ANSWER\n"
     ]
    }
   ],
   "source": [
    "def task_3(numbers):\n",
    "    assert len(numbers) > 1, \"Array should contain at least 2 elements\"\n",
    "    for number in numbers:\n",
    "        assert isinstance(number, int), \"Number {} is not an integer\".format(number)\n",
    "    \n",
    "    \n",
    "    return np.full(len(numbers), max(numbers[0], numbers[-1]))\n",
    "\n",
    "task_3_testing_client = tester.Client(\n",
    "    [[1, 2], [6, 10, 2], [1, 2, 10], [5, 6, 5]], \n",
    "    [[2, 2], [6, 6, 6], [10, 10, 10], [5, 5, 5]])\n",
    "\n",
    "task_3_testing_client.test(\"task_3\", task_3)"
   ]
  },
  {
   "cell_type": "markdown",
   "id": "2ac4e8ca-cd8b-481e-ad26-d6f25cc510a7",
   "metadata": {},
   "source": [
    "### Task 4"
   ]
  },
  {
   "cell_type": "code",
   "execution_count": 6,
   "id": "3fcd385a-8191-456c-aaf2-1efae0f1e0aa",
   "metadata": {},
   "outputs": [
    {
     "name": "stdout",
     "output_type": "stream",
     "text": [
      "Testing task_4...\n",
      "#0: CORRECT ANSWER\n",
      "#1: CORRECT ANSWER\n",
      "#2: CORRECT ANSWER\n",
      "#3: CORRECT ANSWER\n",
      "#4: CORRECT ANSWER\n"
     ]
    }
   ],
   "source": [
    "def task_4(numbers):\n",
    "    for number in numbers:\n",
    "        assert isinstance(number, int), \"Number {} is not an integer\".format(number)\n",
    "    \n",
    "    if len(numbers) <= 2:\n",
    "        return 0.0\n",
    "    \n",
    "    return np.mean([k for k in numbers if k > min(numbers) and k < max(numbers)])\n",
    "\n",
    "task_4_testing_client = tester.Client(\n",
    "    [[20], [20, 30], [20, 30, 50], [30, 20, 50, 70], [4, 10, 5, -1]], \n",
    "    [0, 0, 30, 40, 4.5])\n",
    "\n",
    "task_4_testing_client.test(\"task_4\", task_4)"
   ]
  },
  {
   "cell_type": "markdown",
   "id": "05e93ccd-77f7-487b-8b93-161f0a855954",
   "metadata": {},
   "source": [
    "### Task 5"
   ]
  },
  {
   "cell_type": "code",
   "execution_count": 7,
   "id": "c7734751-3088-4b3e-a74e-e27f676c0f29",
   "metadata": {},
   "outputs": [
    {
     "name": "stdout",
     "output_type": "stream",
     "text": [
      "Testing task_5...\n",
      "#0: CORRECT ANSWER\n",
      "#1: CORRECT ANSWER\n",
      "#2: CORRECT ANSWER\n"
     ]
    }
   ],
   "source": [
    "def task_5(numbers):\n",
    "    for number in numbers:\n",
    "        assert isinstance(number, int), \"Number {} is not an integer\".format(number)\n",
    "    \n",
    "    return [k**3 for k in numbers]\n",
    "\n",
    "task_5_testing_client = tester.Client(\n",
    "    [[1, 2, 3], [10, 2, 3], [-1, 0, 1]], \n",
    "    [[1, 8, 27], [1000, 8, 27], [-1, 0, 1]])\n",
    "\n",
    "task_5_testing_client.test(\"task_5\", task_5)"
   ]
  },
  {
   "cell_type": "markdown",
   "id": "3d040d72-f36c-47bc-b575-4fa7fc497d9f",
   "metadata": {},
   "source": [
    "### Task 6"
   ]
  },
  {
   "cell_type": "code",
   "execution_count": 8,
   "id": "1025720b-18a5-4221-b668-5ba89abab23e",
   "metadata": {},
   "outputs": [
    {
     "name": "stdout",
     "output_type": "stream",
     "text": [
      "Testing task_6...\n",
      "#0: CORRECT ANSWER\n",
      "#1: CORRECT ANSWER\n",
      "#2: CORRECT ANSWER\n"
     ]
    }
   ],
   "source": [
    "def task_6(numbers):\n",
    "    for number in numbers:\n",
    "        assert isinstance(number, int), \"Number {} is not an integer\".format(number)\n",
    "    \n",
    "    return [k for k in numbers if k % 2 == 0]\n",
    "\n",
    "task_6_testing_client = tester.Client(\n",
    "    [[-2, 3, 1, 0, 3, 4], [1, 3, 5], [2, 4, 6]], \n",
    "    [[-2, 0, 4], [], [2, 4, 6]])\n",
    "\n",
    "task_6_testing_client.test(\"task_6\", task_6)"
   ]
  },
  {
   "cell_type": "markdown",
   "id": "2abd5b3b-268f-4c8c-aca4-6a60f5a70816",
   "metadata": {},
   "source": [
    "### Task 7"
   ]
  },
  {
   "cell_type": "code",
   "execution_count": 9,
   "id": "dc01ed0f-5232-49af-8bfe-165431c25c1b",
   "metadata": {},
   "outputs": [
    {
     "name": "stdout",
     "output_type": "stream",
     "text": [
      "Testing task_7...\n",
      "#0: CORRECT ANSWER\n",
      "#1: CORRECT ANSWER\n",
      "#2: CORRECT ANSWER\n"
     ]
    }
   ],
   "source": [
    "def task_7(numbers):\n",
    "    for number in numbers:\n",
    "        assert isinstance(number, int), \"Number {} is not an integer\".format(number)\n",
    "    \n",
    "    return len([k for k in numbers if k % 2 == 0])\n",
    "\n",
    "task_7_testing_client = tester.Client(\n",
    "    [[-2, 3, 1, 0, 3, 4], [1, 3, 5], [2, 4, 6]], \n",
    "    [3, 0, 3])\n",
    "\n",
    "task_7_testing_client.test(\"task_7\", task_7)"
   ]
  },
  {
   "cell_type": "markdown",
   "id": "000074d5-46de-4383-9c34-9be0324d1ca3",
   "metadata": {},
   "source": [
    "### Task 8"
   ]
  },
  {
   "cell_type": "code",
   "execution_count": 10,
   "id": "b1ee69e3-e907-460d-ac88-ca571372102f",
   "metadata": {},
   "outputs": [
    {
     "name": "stdout",
     "output_type": "stream",
     "text": [
      "Testing task_8...\n",
      "#0: CORRECT ANSWER\n",
      "#1: CORRECT ANSWER\n",
      "#2: CORRECT ANSWER\n",
      "#3: CORRECT ANSWER\n",
      "#4: CORRECT ANSWER\n",
      "#5: CORRECT ANSWER\n",
      "#6: CORRECT ANSWER\n"
     ]
    }
   ],
   "source": [
    "def task_8(numbers):\n",
    "    for number in numbers:\n",
    "        assert isinstance(number, int), \"Number {} is not an integer\".format(number)\n",
    "    return (2 in numbers) or (3 in numbers)\n",
    "\n",
    "task_8_testing_client = tester.Client(\n",
    "    [[-2, -3], [2, 3], [1, 5], [0, 3], [2, 0], [1, 5, 6, 7, 3], [5, 5, 7]], \n",
    "    [False, True, False, True, True, True, False])\n",
    "\n",
    "task_8_testing_client.test(\"task_8\", task_8)"
   ]
  },
  {
   "cell_type": "markdown",
   "id": "7c6a8789-f3ba-4fdd-a2cc-1a0ae56fb1a8",
   "metadata": {},
   "source": [
    "### Task 9"
   ]
  },
  {
   "cell_type": "code",
   "execution_count": 11,
   "id": "84387a4d-0e6f-4fdc-a613-6bd83d1e7ab0",
   "metadata": {},
   "outputs": [
    {
     "name": "stdout",
     "output_type": "stream",
     "text": [
      "Testing task_9...\n",
      "#0: CORRECT ANSWER\n",
      "#1: CORRECT ANSWER\n",
      "#2: CORRECT ANSWER\n",
      "#3: CORRECT ANSWER\n",
      "#4: CORRECT ANSWER\n",
      "#5: CORRECT ANSWER\n",
      "#6: CORRECT ANSWER\n"
     ]
    }
   ],
   "source": [
    "def task_9(numbers):\n",
    "    for number in numbers:\n",
    "        assert isinstance(number, int), \"Number {} is not an integer\".format(number)\n",
    "    \n",
    "    for k in range(len(numbers) - 1):\n",
    "        if numbers[k] == 2 and numbers[k+1] == 2:\n",
    "            return True\n",
    "        \n",
    "    return False\n",
    "    \n",
    "    \n",
    "task_9_testing_client = tester.Client(\n",
    "    [[1, 2, 3], [3, 3, 3], [4, 2, 2], [2, 2, 4], [1, 3, 2, 5, 2], [1, 2], []], \n",
    "    [False, False, True, True, False, False, False])\n",
    "\n",
    "task_9_testing_client.test(\"task_9\", task_9)"
   ]
  },
  {
   "cell_type": "markdown",
   "id": "6c8defb7-564a-4c71-8123-0ba4fe8c9770",
   "metadata": {},
   "source": [
    "### Task 10"
   ]
  },
  {
   "cell_type": "code",
   "execution_count": 12,
   "id": "2138515f-9881-43a4-9e8f-f92f9531b128",
   "metadata": {},
   "outputs": [
    {
     "name": "stdout",
     "output_type": "stream",
     "text": [
      "Testing task_10...\n",
      "#0: CORRECT ANSWER\n",
      "#1: CORRECT ANSWER\n",
      "#2: CORRECT ANSWER\n",
      "#3: CORRECT ANSWER\n",
      "#4: CORRECT ANSWER\n",
      "#5: CORRECT ANSWER\n",
      "#6: CORRECT ANSWER\n",
      "#7: CORRECT ANSWER\n"
     ]
    }
   ],
   "source": [
    "def task_10(numbers):\n",
    "    for number in numbers:\n",
    "        assert isinstance(number, int), \"Number {} is not an integer\".format(number)\n",
    "    \n",
    "    left_bounds = [k for k, number in enumerate(numbers) if number == 1]\n",
    "    right_bounds = [k for k, number in enumerate(numbers) if number == 2]\n",
    "    \n",
    "    left_bound = -1 if len(left_bounds) == 0 else min(left_bounds)\n",
    "    right_bound = -1 if len(right_bounds) == 0 else max(right_bounds)\n",
    "    \n",
    "    if left_bound == -1:\n",
    "        return numbers\n",
    "    if right_bound > left_bound:\n",
    "        return np.concatenate((numbers[:left_bound], numbers[(right_bound+1):]), axis=None)\n",
    "    return numbers[:left_bound]\n",
    "    \n",
    "task_10_testing_client = tester.Client(\n",
    "    [[5, 6, 1, 7, 8, 2, 6, 7], [5, 1, 3, 7, 2, 6, 7, 1, 9, 7, 2, 7], [1, 2], \n",
    "     [5, 6, 1, 7, 5], [2, 3, 1], [7, 5, 2, 3, 1, 0], [5, 7, 6, 10], [2, 3, 5]], \n",
    "    [[5, 6, 6, 7], [5, 7], [], [5, 6], [2, 3], [7, 5, 2, 3], [5, 7, 6, 10], [2, 3, 5]])\n",
    "\n",
    "task_10_testing_client.test(\"task_10\", task_10)"
   ]
  },
  {
   "cell_type": "code",
   "execution_count": null,
   "id": "98b091ec",
   "metadata": {},
   "outputs": [],
   "source": []
  }
 ],
 "metadata": {
  "kernelspec": {
   "display_name": "newest",
   "language": "python",
   "name": "newest"
  },
  "language_info": {
   "codemirror_mode": {
    "name": "ipython",
    "version": 3
   },
   "file_extension": ".py",
   "mimetype": "text/x-python",
   "name": "python",
   "nbconvert_exporter": "python",
   "pygments_lexer": "ipython3",
   "version": "3.10.4"
  }
 },
 "nbformat": 4,
 "nbformat_minor": 5
}
