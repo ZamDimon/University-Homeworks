{
 "cells": [
  {
   "cell_type": "markdown",
   "id": "7c7ccd6c-0278-4b06-a762-58f0e8be0c33",
   "metadata": {},
   "source": [
    "# Homework Assignment 1"
   ]
  },
  {
   "cell_type": "markdown",
   "id": "29ea8202-f2bc-4eb9-b77b-07d4055d80d9",
   "metadata": {
    "tags": []
   },
   "source": [
    "### Mini-library for testing\n",
    "\n",
    "As some of the existing libraries are designed to be tested on the production-level backend services/complex applications, I find them way too complicated for testing such simple tasks as suggested :)\n",
    "\n",
    "So a small library as presented below might help us to automate testing and can be used for further assignments as well"
   ]
  },
  {
   "cell_type": "code",
   "execution_count": 18,
   "id": "cc34b91c-8bc9-412a-b3b2-956efd78ce98",
   "metadata": {},
   "outputs": [],
   "source": [
    "import tester"
   ]
  },
  {
   "cell_type": "code",
   "execution_count": 19,
   "id": "19d128d7-c376-4ad2-ad29-de71ad0bad10",
   "metadata": {},
   "outputs": [
    {
     "name": "stdout",
     "output_type": "stream",
     "text": [
      "Testing definitely_wrong_function...\n",
      "#0: UNEXPECTED BEHAVIOUR\n",
      "#1: UNEXPECTED BEHAVIOUR\n",
      "#2: UNEXPECTED BEHAVIOUR\n",
      "#3: UNEXPECTED BEHAVIOUR\n",
      "Testing also_wrong_function...\n",
      "#0: WRONG ANSWER, expected 2.0 for 1.0, got 3.0\n",
      "#1: WRONG ANSWER, expected 3.0 for 2.0, got 4.0\n",
      "#2: WRONG ANSWER, expected 5.0 for 4.0, got 6.0\n",
      "#3: WRONG ANSWER, expected 11.0 for 10.0, got 12.0\n",
      "Testing finally_correct_function...\n",
      "#0: CORRECT ANSWER\n",
      "#1: CORRECT ANSWER\n",
      "#2: CORRECT ANSWER\n",
      "#3: CORRECT ANSWER\n"
     ]
    }
   ],
   "source": [
    "# Just a test for our testing library. Trying to pass a function that adds one to a number\n",
    "\n",
    "def definitely_wrong_function(a):\n",
    "    return a / 0\n",
    "\n",
    "def also_wrong_function(a):\n",
    "    return a + 2.0\n",
    "\n",
    "def finally_correct_function(a):\n",
    "    return a + 1.0\n",
    "\n",
    "testing_client = tester.Client([1.0, 2.0, 4.0, 10.0], [2.0, 3.0, 5.0, 11.0])\n",
    "testing_client.test(\"definitely_wrong_function\", definitely_wrong_function)\n",
    "testing_client.test(\"also_wrong_function\", also_wrong_function)\n",
    "testing_client.test(\"finally_correct_function\", finally_correct_function)"
   ]
  },
  {
   "cell_type": "markdown",
   "id": "7d9fb6e8-df5b-48fc-9a17-112ef5ae02cd",
   "metadata": {},
   "source": [
    "### Task 1"
   ]
  },
  {
   "cell_type": "code",
   "execution_count": 23,
   "id": "db78b52a-fb72-4ea5-9085-3f5025403eef",
   "metadata": {},
   "outputs": [
    {
     "name": "stdout",
     "output_type": "stream",
     "text": [
      "Testing task_1...\n",
      "#0: CORRECT ANSWER\n",
      "#1: CORRECT ANSWER\n",
      "#2: CORRECT ANSWER\n",
      "#3: CORRECT ANSWER\n",
      "#4: CORRECT ANSWER\n",
      "#5: CORRECT ANSWER\n",
      "Testing task_1_shorter...\n",
      "#0: CORRECT ANSWER\n",
      "#1: CORRECT ANSWER\n",
      "#2: CORRECT ANSWER\n",
      "#3: CORRECT ANSWER\n",
      "#4: CORRECT ANSWER\n",
      "#5: CORRECT ANSWER\n"
     ]
    }
   ],
   "source": [
    "def task_1(number):\n",
    "    # More 'readable' solution\n",
    "    assert isinstance(number, int), \"Number is not an integer\"\n",
    "    \n",
    "    return abs(number - 20) if number < 20 else 2 * abs(number - 20)\n",
    "\n",
    "def task_1_shorter(number):\n",
    "    # Less 'readable' solution, yet shorter\n",
    "    assert isinstance(number, int), \"Number is not an integer\"\n",
    "    \n",
    "    return (1 + (number >= 20)) * abs(number - 20)\n",
    "\n",
    "task_1_testing_client = tester.Client(\n",
    "    [10, 5, -30, 20, 30, 100], [10, 15, 50, 0, 20, 160])\n",
    "\n",
    "task_1_testing_client.test(\"task_1\", task_1)\n",
    "task_1_testing_client.test(\"task_1_shorter\", task_1_shorter)"
   ]
  },
  {
   "cell_type": "markdown",
   "id": "2e52623f-3af4-4356-bf98-9ba8c5e38799",
   "metadata": {},
   "source": [
    "### Task 2"
   ]
  },
  {
   "cell_type": "code",
   "execution_count": 25,
   "id": "3caa5b04-b066-41fd-93f4-f7083c0f4e3c",
   "metadata": {},
   "outputs": [
    {
     "name": "stdout",
     "output_type": "stream",
     "text": [
      "Testing task_2...\n",
      "#0: CORRECT ANSWER\n",
      "#1: CORRECT ANSWER\n",
      "#2: CORRECT ANSWER\n",
      "#3: CORRECT ANSWER\n",
      "#4: CORRECT ANSWER\n",
      "#5: CORRECT ANSWER\n"
     ]
    }
   ],
   "source": [
    "def task_2(number_1, number_2):\n",
    "    assert isinstance(number_1, int), \"Number 1 is not an integer\"\n",
    "    assert isinstance(number_2, int), \"Number 2 is not an integer\"\n",
    "    \n",
    "    return number_1 == 10 or number_2 == 10 or number_1 + number_2 == 10\n",
    "\n",
    "def task_2_test_envelope(numbers):\n",
    "    # Just a function that can be inserted into the test client\n",
    "    return task_2(numbers[0], numbers[1])\n",
    "\n",
    "task_2_testing_client = tester.Client(\n",
    "    [[20, 30], [10, 30], [9, 10], [5, 5], [5, 4], [10, 10]], \n",
    "    [False, True, True, True, False, True])\n",
    "\n",
    "task_2_testing_client.test(\"task_2\", task_2_test_envelope)"
   ]
  },
  {
   "cell_type": "markdown",
   "id": "407f43a7-5863-4a65-bf1d-45bc96f746c5",
   "metadata": {},
   "source": [
    "### Task 3"
   ]
  },
  {
   "cell_type": "code",
   "execution_count": 26,
   "id": "790af975-f215-48e5-8138-28913124047b",
   "metadata": {},
   "outputs": [
    {
     "name": "stdout",
     "output_type": "stream",
     "text": [
      "Testing task_3...\n",
      "#0: CORRECT ANSWER\n",
      "#1: CORRECT ANSWER\n",
      "#2: CORRECT ANSWER\n",
      "#3: CORRECT ANSWER\n",
      "#4: CORRECT ANSWER\n",
      "#5: CORRECT ANSWER\n",
      "#6: CORRECT ANSWER\n",
      "#7: CORRECT ANSWER\n",
      "#8: CORRECT ANSWER\n",
      "#9: CORRECT ANSWER\n",
      "#10: CORRECT ANSWER\n",
      "#11: CORRECT ANSWER\n",
      "#12: CORRECT ANSWER\n",
      "#13: CORRECT ANSWER\n",
      "#14: CORRECT ANSWER\n"
     ]
    }
   ],
   "source": [
    "def task_3(n):\n",
    "    return abs(n - 100) <= 10 or abs(n - 200) <= 10\n",
    "\n",
    "task_3_testing_client = tester.Client(\n",
    "    [90, 110, 95, 105, 100, 150, 160, 70, 40, 200, 210, 190, 195, 201, 1000], \n",
    "    [True, True, True, True, True, False, False, False, False, True, True, True, True, True, False])\n",
    "\n",
    "task_3_testing_client.test(\"task_3\", task_3)"
   ]
  },
  {
   "cell_type": "markdown",
   "id": "2ac4e8ca-cd8b-481e-ad26-d6f25cc510a7",
   "metadata": {},
   "source": [
    "### Task 4"
   ]
  },
  {
   "cell_type": "code",
   "execution_count": 27,
   "id": "3fcd385a-8191-456c-aaf2-1efae0f1e0aa",
   "metadata": {},
   "outputs": [
    {
     "name": "stdout",
     "output_type": "stream",
     "text": [
      "Testing task_4...\n",
      "#0: CORRECT ANSWER\n",
      "#1: CORRECT ANSWER\n",
      "#2: CORRECT ANSWER\n",
      "#3: CORRECT ANSWER\n",
      "#4: CORRECT ANSWER\n",
      "#5: CORRECT ANSWER\n"
     ]
    }
   ],
   "source": [
    "def task_4(number_1, number_2):\n",
    "    assert isinstance(number_1, int), \"Number 1 is not an integer\"\n",
    "    assert isinstance(number_2, int), \"Number 2 is not an integer\"\n",
    "    \n",
    "    return (number_1 > 0 and number_2 < 0) or (number_1 < 0 and number_2 > 0)\n",
    "\n",
    "def task_4_test_envelope(numbers):\n",
    "    # Just a function that can be inserted into the test client\n",
    "    return task_4(numbers[0], numbers[1])\n",
    "\n",
    "task_4_testing_client = tester.Client(\n",
    "    [[20, 30], [10, 30], [-10, -10], [10, -10], [-1, 1], [0, 10]], \n",
    "    [False, False, False, True, True, False])\n",
    "\n",
    "task_4_testing_client.test(\"task_4\", task_4_test_envelope)"
   ]
  },
  {
   "cell_type": "markdown",
   "id": "05e93ccd-77f7-487b-8b93-161f0a855954",
   "metadata": {},
   "source": [
    "### Task 5"
   ]
  },
  {
   "cell_type": "code",
   "execution_count": 28,
   "id": "c7734751-3088-4b3e-a74e-e27f676c0f29",
   "metadata": {},
   "outputs": [
    {
     "name": "stdout",
     "output_type": "stream",
     "text": [
      "Testing task_5...\n",
      "#0: CORRECT ANSWER\n",
      "#1: CORRECT ANSWER\n",
      "#2: CORRECT ANSWER\n",
      "#3: CORRECT ANSWER\n",
      "#4: CORRECT ANSWER\n"
     ]
    }
   ],
   "source": [
    "def task_5(row):\n",
    "    assert isinstance(row, str), \"Row is not a string\"\n",
    "    return \"0\" in row\n",
    "\n",
    "task_5_testing_client = tester.Client(\n",
    "    ['I love Mathematics', 'I hate Mathematics', 'I l0ve Pyth0n', 'Hell0 World', \"Slava Ukraine\"], \n",
    "    [False, False, True, True, False])\n",
    "\n",
    "task_5_testing_client.test(\"task_5\", task_5)"
   ]
  },
  {
   "cell_type": "markdown",
   "id": "3d040d72-f36c-47bc-b575-4fa7fc497d9f",
   "metadata": {},
   "source": [
    "### Task 6"
   ]
  },
  {
   "cell_type": "code",
   "execution_count": 29,
   "id": "1025720b-18a5-4221-b668-5ba89abab23e",
   "metadata": {},
   "outputs": [
    {
     "name": "stdout",
     "output_type": "stream",
     "text": [
      "Testing task_6...\n",
      "#0: CORRECT ANSWER\n",
      "#1: CORRECT ANSWER\n",
      "#2: CORRECT ANSWER\n",
      "#3: CORRECT ANSWER\n",
      "#4: CORRECT ANSWER\n"
     ]
    }
   ],
   "source": [
    "def task_6(row):\n",
    "    assert isinstance(row, str), \"Row is not a string\"\n",
    "    \n",
    "    row = list(row)\n",
    "    row[0], row[-1] = row[-1], row[0]\n",
    "    return ''.join(row)\n",
    "\n",
    "task_6_testing_client = tester.Client(\n",
    "    ['I love Mathematics', 'I hate Mathematics', 'I l0ve Pyth0n', 'Hell0 World', 'Slava Ukraine'], \n",
    "    ['s love MathematicI', 's hate MathematicI', 'n l0ve Pyth0I', 'dell0 WorlH', 'elava UkrainS'])\n",
    "\n",
    "task_6_testing_client.test(\"task_6\", task_6)"
   ]
  },
  {
   "cell_type": "markdown",
   "id": "2abd5b3b-268f-4c8c-aca4-6a60f5a70816",
   "metadata": {},
   "source": [
    "### Task 7"
   ]
  },
  {
   "cell_type": "code",
   "execution_count": 30,
   "id": "dc01ed0f-5232-49af-8bfe-165431c25c1b",
   "metadata": {},
   "outputs": [
    {
     "name": "stdout",
     "output_type": "stream",
     "text": [
      "Testing task_7...\n",
      "#0: CORRECT ANSWER\n",
      "#1: CORRECT ANSWER\n",
      "#2: CORRECT ANSWER\n",
      "#3: CORRECT ANSWER\n",
      "#4: CORRECT ANSWER\n"
     ]
    }
   ],
   "source": [
    "def task_7(row, n):\n",
    "    assert isinstance(row, str), \"Row is not a string\"\n",
    "    assert isinstance(n, int), \"n is not an integer\"\n",
    "    \n",
    "    row = list(row)\n",
    "    return ''.join((row + row[:n])[n:])\n",
    "    \n",
    "def task_7_test_envelope(inputs):\n",
    "    return task_7(inputs[0], inputs[1])\n",
    "    \n",
    "task_7_testing_client = tester.Client(\n",
    "    [['I love Mathematics', 3], ['I hate Mathematics', 5], ['I l0ve Pyth0n', 1], ['Hell0 World', 0], ['Slava Ukraine', 5]], \n",
    "    ['ove MathematicsI l', 'e MathematicsI hat', ' l0ve Pyth0nI', 'Hell0 World', ' UkraineSlava'])\n",
    "\n",
    "task_7_testing_client.test(\"task_7\", task_7_test_envelope)"
   ]
  },
  {
   "cell_type": "markdown",
   "id": "000074d5-46de-4383-9c34-9be0324d1ca3",
   "metadata": {},
   "source": [
    "### Task 8"
   ]
  },
  {
   "cell_type": "code",
   "execution_count": 31,
   "id": "b1ee69e3-e907-460d-ac88-ca571372102f",
   "metadata": {},
   "outputs": [
    {
     "name": "stdout",
     "output_type": "stream",
     "text": [
      "Testing task_8...\n",
      "#0: CORRECT ANSWER\n",
      "#1: CORRECT ANSWER\n",
      "#2: CORRECT ANSWER\n",
      "#3: CORRECT ANSWER\n",
      "#4: CORRECT ANSWER\n",
      "#5: CORRECT ANSWER\n",
      "#6: CORRECT ANSWER\n",
      "#7: CORRECT ANSWER\n"
     ]
    }
   ],
   "source": [
    "def task_8(row):\n",
    "    assert isinstance(row, str), \"Row is not a string\"\n",
    "    if len(row) < 3:\n",
    "        return 'not' + row\n",
    "    return row if row[:3] == \"not\" else 'not' + row\n",
    "\n",
    "task_8_testing_client = tester.Client(\n",
    "    ['Hollow Knight', 'not a Hollow Knight', 'high score', 'no high score', 'notable', 'net', 'no', ''], \n",
    "    ['notHollow Knight', 'not a Hollow Knight', 'nothigh score', 'notno high score', 'notable', 'notnet', 'notno', 'not'])\n",
    "\n",
    "task_8_testing_client.test(\"task_8\", task_8)"
   ]
  },
  {
   "cell_type": "markdown",
   "id": "7c6a8789-f3ba-4fdd-a2cc-1a0ae56fb1a8",
   "metadata": {},
   "source": [
    "### Task 9"
   ]
  },
  {
   "cell_type": "code",
   "execution_count": 32,
   "id": "84387a4d-0e6f-4fdc-a613-6bd83d1e7ab0",
   "metadata": {},
   "outputs": [
    {
     "name": "stdout",
     "output_type": "stream",
     "text": [
      "Testing task_9...\n",
      "#0: CORRECT ANSWER\n",
      "#1: CORRECT ANSWER\n",
      "#2: CORRECT ANSWER\n",
      "#3: CORRECT ANSWER\n"
     ]
    }
   ],
   "source": [
    "def task_9(row, n):\n",
    "    assert isinstance(row, str), \"Row is not a string\"\n",
    "    assert isinstance(n, int), \"n is not an integer\"\n",
    "    assert n > 0 and n <= len(row), \"n should be both positive and less than row's length\"\n",
    "    \n",
    "    return row[:(n-1)] + row[n:] \n",
    "\n",
    "def task_9_test_envelope(inputs):\n",
    "    return task_9(inputs[0], inputs[1])\n",
    "\n",
    "task_9_testing_client = tester.Client(\n",
    "    [['123', 1], ['12345', 4], ['1234', 2], ['12345', 5]], \n",
    "    ['23', '1235', '134', '1234'])\n",
    "\n",
    "task_9_testing_client.test(\"task_9\", task_9_test_envelope)"
   ]
  },
  {
   "cell_type": "markdown",
   "id": "6c8defb7-564a-4c71-8123-0ba4fe8c9770",
   "metadata": {},
   "source": [
    "### Task 10"
   ]
  },
  {
   "cell_type": "code",
   "execution_count": 33,
   "id": "2138515f-9881-43a4-9e8f-f92f9531b128",
   "metadata": {},
   "outputs": [
    {
     "name": "stdout",
     "output_type": "stream",
     "text": [
      "Testing task_10...\n",
      "#0: CORRECT ANSWER\n",
      "#1: CORRECT ANSWER\n",
      "#2: CORRECT ANSWER\n",
      "#3: CORRECT ANSWER\n"
     ]
    }
   ],
   "source": [
    "def task_10(row):\n",
    "    return 3 * row[:min(len(row),3)] \n",
    "\n",
    "task_10_testing_client = tester.Client(\n",
    "    ['12345', '1234', '12', '1'], \n",
    "    ['123123123', '123123123', '121212', '111'])\n",
    "\n",
    "task_10_testing_client.test(\"task_10\", task_10)"
   ]
  }
 ],
 "metadata": {
  "kernelspec": {
   "display_name": "newest",
   "language": "python",
   "name": "newest"
  },
  "language_info": {
   "codemirror_mode": {
    "name": "ipython",
    "version": 3
   },
   "file_extension": ".py",
   "mimetype": "text/x-python",
   "name": "python",
   "nbconvert_exporter": "python",
   "pygments_lexer": "ipython3",
   "version": "3.10.4"
  }
 },
 "nbformat": 4,
 "nbformat_minor": 5
}
