{
 "cells": [
  {
   "cell_type": "markdown",
   "id": "85bc691b-0675-415e-88dd-3da4f85788c5",
   "metadata": {},
   "source": [
    "# Task 2.\n",
    "\n",
    "**Question 1**. Find the $\\mathcal{O}(n)$ approach of calculating the value of:\n",
    "$$P(x_0) = a_0 + a_1 x_0 + a_2 x_0^2 + \\dots + a_n x_0^n$$\n",
    "**Question 2**. Why the approach of calculating $x, x^2, \\dots, x^n$ separately has the $\\mathcal{O(n^2)}$ complexity?"
   ]
  },
  {
   "cell_type": "markdown",
   "id": "3d01ca0c-6d3f-485c-86e3-dc27fae130bc",
   "metadata": {},
   "source": [
    "**Question 2 Solution.** For calculating the value of $x^k$ we need $k$ operations, while for $a_kx^k$ one needs $k+1$ operations. This way, the total number of operations is:\n",
    "$$\n",
    "q(n) = \\sum_{k=0}^n (k+1) = \\frac{(n+1)(n+2)}{2} = \\frac{n^2}{2} + \\frac{3n}{2} + 1\n",
    "$$\n",
    "thus $q(n) = \\mathcal{O}(n^2)$\n"
   ]
  },
  {
   "cell_type": "markdown",
   "id": "1e905782-3558-4929-b3e8-f73e2b5c799a",
   "metadata": {},
   "source": [
    "**Question 1 Solution #1 (according to the method described in the task)**\n",
    "\n",
    "1. Initialize the variable $p = a_n$\n",
    "2. For each step $i=1,2,\\dots,n$, do the following operation: $p \\xleftarrow{set} p\\cdot x_0 + a_{n-i}$\n",
    "3. Return $p$ as an answer\n",
    "\n",
    "In this algorithm we made 1 step during initialization and $n$ steps with just one operation within. That way, in total we have the following number of operations:\n",
    "$$\n",
    "h(n) = 1 + n\n",
    "$$\n",
    "\n",
    "Therefore we conclude $h(n) = \\mathcal{O}(n)$"
   ]
  },
  {
   "cell_type": "code",
   "execution_count": 1,
   "id": "7f282fbb-8199-4e4e-b81d-fcb088fa22ab",
   "metadata": {},
   "outputs": [
    {
     "name": "stdout",
     "output_type": "stream",
     "text": [
      "Testing task_2(1)...\n",
      "#0: CORRECT ANSWER\n",
      "#1: CORRECT ANSWER\n",
      "#2: CORRECT ANSWER\n",
      "#3: CORRECT ANSWER\n",
      "#4: CORRECT ANSWER\n",
      "#5: CORRECT ANSWER\n",
      "#6: CORRECT ANSWER\n"
     ]
    }
   ],
   "source": [
    "import tester\n",
    "\n",
    "def calculate_polynomial_1(coefficients, x0):\n",
    "    p = coefficients[-1]\n",
    "    for i in range(1, len(coefficients)):\n",
    "        p = p * x0 + coefficients[-1-i]\n",
    "    \n",
    "    return p\n",
    "\n",
    "def calculate_polynomial_envelope_1(args):\n",
    "    return calculate_polynomial_1(args[:-1], args[-1])\n",
    "\n",
    "polynomial_checker = tester.Client(\n",
    "    [[5, 4, 3, 2], [1, 2, 3, 1], [5, 4, 3, 3], [1, 1], [1, 2, 3, 4, 5, 1], [125, 1], [4, 2, 3, 5, 6, 2]],\n",
    "    [25, 6, 44, 1, 15, 125, 156]\n",
    ")\n",
    "\n",
    "polynomial_checker.test(\"task_2(1)\", calculate_polynomial_envelope_1)"
   ]
  },
  {
   "cell_type": "markdown",
   "id": "444d06a2-a2a0-4f52-b6c8-a2dc1c049cf8",
   "metadata": {},
   "source": [
    "**Question 1 Solution #2**.\n",
    "1. Create temporary variables $r = 0$, $x = 1$\n",
    "2. Iterate through the array $\\{a_i\\}_{i=0}^n$. During each step, do the following operations: $r \\xleftarrow{set} r + a_ix$ and $x \\xleftarrow{set} x \\cdot x_0$.\n",
    "\n",
    "This way, we obtain the value:\n",
    "$$\n",
    "r = \\sum_{i=0}^n a_i \\prod_{j=0}^i x_0 = P(x_0)\n",
    "$$\n",
    "\n",
    "Without taking into account initialization, during each step we make 2 operations. In total, we make $n+1$ such steps and thus the total number of operations $p$:\n",
    "$$\n",
    "p(n) = 2(n+1)\n",
    "$$\n",
    "Obviously $p(n) = \\mathcal{O}(n)$"
   ]
  },
  {
   "cell_type": "code",
   "execution_count": 3,
   "id": "0957f3c6-5e5e-4815-b55b-995d7806db3d",
   "metadata": {},
   "outputs": [
    {
     "name": "stdout",
     "output_type": "stream",
     "text": [
      "Testing task_2(2)...\n",
      "#0: CORRECT ANSWER\n",
      "#1: CORRECT ANSWER\n",
      "#2: CORRECT ANSWER\n",
      "#3: CORRECT ANSWER\n",
      "#4: CORRECT ANSWER\n",
      "#5: CORRECT ANSWER\n",
      "#6: CORRECT ANSWER\n"
     ]
    }
   ],
   "source": [
    "import tester\n",
    "\n",
    "def calculate_polynomial_2(coefficients, x0):\n",
    "    x, result = 1, 0\n",
    "    for coefficient in coefficients:\n",
    "        result = result + coefficient * x\n",
    "        x = x * x0\n",
    "    \n",
    "    return result\n",
    "\n",
    "def calculate_polynomial_envelope_2(args):\n",
    "    return calculate_polynomial_2(args[:-1], args[-1])\n",
    "\n",
    "polynomial_checker = tester.Client(\n",
    "    [[5, 4, 3, 2], [1, 2, 3, 1], [5, 4, 3, 3], [1, 1], [1, 2, 3, 4, 5, 1], [125, 1], [4, 2, 3, 5, 6, 2]],\n",
    "    [25, 6, 44, 1, 15, 125, 156]\n",
    ")\n",
    "\n",
    "polynomial_checker.test(\"task_2(2)\", calculate_polynomial_envelope_2)"
   ]
  },
  {
   "cell_type": "markdown",
   "id": "88c06685-e7ad-4c3d-a7a3-eeb63f714068",
   "metadata": {},
   "source": [
    "# Task 3\n",
    "\n",
    "Given array $s = (s_0, s_1, \\dots, s_n)$, find the subarray with the greatest sum.\n",
    "\n",
    "**Solution**. Suppose we've found the subarray with the greatest sum that contains first $i \\leq n-1$ elements and equals to $\\sigma[i]$. Suppose we added another element $s_{i+1}$ at the end of the list. Then,\n",
    "$$\n",
    "\\sigma[i+1] = \\max(\\sigma[i] + s_{i+1}, s_{i+1})\n",
    "$$\n",
    "**Proof**. Suppose that $\\mathcal{C}_i$ is a set of all possible subarray sums that contain first $i$ elements. Then\n",
    "$$\n",
    "\\mathcal{C}_{i+1} = \\{s_{i+1} + c \\mid c \\in \\mathcal{C}_i\\} \\cup \\{s_{i+1}\\}\n",
    "$$\n",
    "Since $\\sigma[i+1]=\\max \\mathcal{C}_{i+1}$, we have\n",
    "$$\n",
    "\\sigma[i+1] = \\max\\{\\{s_{i+1} + c \\mid c \\in \\mathcal{C}_i\\} \\cup \\{s_{i+1}\\} \\} \\\\\n",
    "\\sigma[i+1] = \\max\\{ \\max\\{s_{i+1} + c \\mid c \\in \\mathcal{C}_i\\}, s_{i+1} \\} \\\\\n",
    "\\sigma[i+1] = \\max\\{s_{i+1} + \\max \\mathcal{C}_i, s_{i+1}\\} \\\\\n",
    "\\sigma[i+1] = \\max\\{s_{i+1} + \\sigma[i], s_{i+1}\\}\n",
    "$$\n",
    "\n",
    "That is exactly what we had to prove.\n",
    "\n",
    "**Algorithm**. 1. For each step $i=1,2,\\dots,n$ do \n",
    "$$\n",
    "s_{i} \\xleftarrow{set} \\max\\{s_{i-1} + s_i, s_i\\}\n",
    "$$\n",
    "2. Return $\\max \\{s_0,s_1,\\dots,s_n\\}$\n",
    "\n",
    "Since we are looping twice, we are making roughly $2n$ operations which means that the algorithm's complexity is $\\mathcal{O}(n)$"
   ]
  },
  {
   "cell_type": "code",
   "execution_count": null,
   "id": "2678a0f0-7dda-47bf-b37c-a604561a55bc",
   "metadata": {},
   "outputs": [],
   "source": [
    "def get_maximum_subarray_sum(numbers):\n",
    "    for i in range(1, len(numbers)):\n",
    "        numbers[i] = max(numbers[i-1]+numbers[i], numbers[i])\n",
    "    return max(numbers)"
   ]
  },
  {
   "cell_type": "markdown",
   "id": "bc546135-62a2-4d7f-b4f4-d4e044a4d085",
   "metadata": {},
   "source": [
    "Just to make sure checked the solution on the *LeetCode*:\n",
    "\n",
    "![alt text](Images/Assignment_3/leetcode.png \"LeetCode result\")"
   ]
  }
 ],
 "metadata": {
  "kernelspec": {
   "display_name": "newest",
   "language": "python",
   "name": "newest"
  },
  "language_info": {
   "codemirror_mode": {
    "name": "ipython",
    "version": 3
   },
   "file_extension": ".py",
   "mimetype": "text/x-python",
   "name": "python",
   "nbconvert_exporter": "python",
   "pygments_lexer": "ipython3",
   "version": "3.10.4"
  }
 },
 "nbformat": 4,
 "nbformat_minor": 5
}
