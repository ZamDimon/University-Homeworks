{
 "cells": [
  {
   "cell_type": "code",
   "execution_count": 1,
   "id": "b0c6e68f-92c4-4de6-8d52-60403e6e106c",
   "metadata": {},
   "outputs": [],
   "source": [
    "# Importing required packages\n",
    "\n",
    "import turtle\n",
    "import random\n",
    "import time\n",
    "import numpy as np"
   ]
  },
  {
   "cell_type": "code",
   "execution_count": 2,
   "id": "35a3d6d5-9839-4205-a0d0-8ff85a17f527",
   "metadata": {},
   "outputs": [],
   "source": [
    "# Here you can play a bit with the settings\n",
    "\n",
    "screen_name = 'Bubble Sort Demonstration' # Name to be displayed at the top\n",
    "screen_width = 1000 # Width of a screen\n",
    "screen_height = 1000 # Height of a screen\n",
    "max_bar_height = 800 # Maximum height of a bar \n",
    "bars_total_width = 800 # Total width of all bars. A single bar will be of a size bars_total_width/array_size\n",
    "array_size = 50 # Self-explanatory I believe\n",
    "timeout_after_finish = 3 # After the sorting finishes, the window will close in timeout_after_finish seconds \n",
    "highlight_colors = ('blue', 'yellow') # Color of two elements that will be swapped\n",
    "default_color = 'dim gray' # Default color of bars\n",
    "\n",
    "assert max_bar_height <= screen_height, 'Maximum bar height should not exceed screen height'\n",
    "assert bars_total_width <= screen_width, 'Bars total width must not exceed screen width'"
   ]
  },
  {
   "cell_type": "code",
   "execution_count": 3,
   "id": "bb29714e-8d8a-482d-869a-939c93cd2b16",
   "metadata": {},
   "outputs": [],
   "source": [
    "# Initial parameters initialization. Do not touch that please\n",
    "\n",
    "# Will generate values between 0 and 1 and then multiply by the max bar height\n",
    "array = np.random.rand(array_size) * max_bar_height\n",
    "# Width of a single bar\n",
    "bar_width = bars_total_width/len(array)\n",
    "# x coordinate from which the bars will be drawn\n",
    "bars_initial_x = -bars_total_width/2"
   ]
  },
  {
   "cell_type": "code",
   "execution_count": 4,
   "id": "a268b4ab-69c1-4591-b0c6-e29f99e17831",
   "metadata": {},
   "outputs": [],
   "source": [
    "# Functions needed to draw graphics\n",
    "\n",
    "# Just a function to setup initial window settings and then return them\n",
    "def turtle_setup():\n",
    "    screen = turtle.Screen()\n",
    "    screen.setup(screen_width, screen_height)\n",
    "    screen.tracer(0,0)\n",
    "    screen.title(screen_name)\n",
    "    turtle.hideturtle()\n",
    "    \n",
    "    return screen\n",
    "\n",
    "# Function to draw a bar at specified position and with specified size and color parameters \n",
    "def draw_bar(x, y, width, height, color):\n",
    "    turtle.fillcolor(color)\n",
    "    turtle.up()\n",
    "    turtle.goto(x,y)\n",
    "    turtle.seth(0)\n",
    "    turtle.down()\n",
    "    turtle.begin_fill()\n",
    "    turtle.fd(width)\n",
    "    turtle.left(90)\n",
    "    turtle.fd(height)\n",
    "    turtle.left(90)\n",
    "    turtle.fd(width)\n",
    "    turtle.left(90)\n",
    "    turtle.fd(height)\n",
    "    turtle.left(90)\n",
    "    turtle.end_fill()\n",
    "    turtle.fillcolor(default_color)\n",
    "\n",
    "# A function to draw an array with two positions being displayed using the highlight color\n",
    "\n",
    "# NOTE: This is not an optimal solution to highlight two elements we swap \n",
    "# since after each step we are redrawing the whole array. \n",
    "# Instead, we should just 1) update previously selected pair 2) highlight new pair.\n",
    "# Maybe I will impore that layer\n",
    "def draw_bars(array, screen, pair=(-1,-1)):\n",
    "    turtle.clear()\n",
    "    x = bars_initial_x\n",
    "    \n",
    "    for i in range(len(array)):\n",
    "        # FIXME: make this part more concise\n",
    "        current_color = default_color\n",
    "        if i == pair[0]: \n",
    "            current_color = highlight_colors[0]\n",
    "        elif i == pair[1]: \n",
    "            current_color = highlight_colors[1]\n",
    "        \n",
    "        draw_bar(x, -screen_height/2, bar_width, array[i], current_color)\n",
    "        x += bar_width\n",
    "        \n",
    "    screen.update()"
   ]
  },
  {
   "cell_type": "markdown",
   "id": "6793976a-d8a0-445f-bb3f-e25b7f3b9239",
   "metadata": {},
   "source": [
    "## Bubble Sort\n",
    "\n",
    "**Note:** For some reason the visualization does not work in Jupyter Lab when running it again after the first launch. So make sure to restart the kernel before you run the visualization again."
   ]
  },
  {
   "cell_type": "code",
   "execution_count": null,
   "id": "0f912850-4d59-4123-8a62-1a0a25dbdc64",
   "metadata": {},
   "outputs": [],
   "source": [
    "# Setupping turtle\n",
    "screen = turtle_setup()\n",
    "\n",
    "# Bubble sort function\n",
    "def bubble_sort(array, screen):\n",
    "    for i in range(len(array)):\n",
    "        for j in range(i, len(array)):\n",
    "            if array[i] > array[j]:\n",
    "                array[i], array[j] = array[j], array[i]\n",
    "                draw_bars(array, screen, pair=(i, j))\n",
    "                    \n",
    "start_time = time.time()\n",
    "bubble_sort(array, screen)\n",
    "turtle.update()\n",
    "end_time = time.time()\n",
    "\n",
    "# Closing the window after timeout_after_finish seconds\n",
    "time.sleep(timeout_after_finish)\n",
    "screen.bye()\n",
    "\n",
    "print('Time required for the sorting is {} seconds'.format(end_time - start_time))"
   ]
  },
  {
   "cell_type": "markdown",
   "id": "e0368a4b-4747-47e8-8824-08389cac7e84",
   "metadata": {},
   "source": [
    "## Quick Sort"
   ]
  },
  {
   "cell_type": "code",
   "execution_count": 5,
   "id": "304ee607-d223-4ff2-b0d6-7fa77b69da49",
   "metadata": {},
   "outputs": [
    {
     "name": "stdout",
     "output_type": "stream",
     "text": [
      "Time required for the sorting is 1.9941420555114746 seconds\n"
     ]
    }
   ],
   "source": [
    "# Setupping turtle\n",
    "screen = turtle_setup()\n",
    "\n",
    "# Function to swap elements in array according to the most-right element (pivot)\n",
    "def partition(array, left_bound, right_bound, screen):\n",
    "    pivot = array[right_bound]\n",
    "    i = left_bound - 1\n",
    "\n",
    "    for j in range(left_bound, right_bound):\n",
    "        if array[j] <= pivot:\n",
    "            i = i + 1\n",
    "            array[i], array[j] = array[j], array[i]\n",
    "            draw_bars(array, screen, pair=(i, j))\n",
    "\n",
    "    array[i + 1], array[right_bound] = array[right_bound], array[i + 1]\n",
    "    draw_bars(array, screen, pair=(i+1, right_bound))\n",
    "    return i + 1\n",
    "\n",
    "def quick_sort(array, left_bound, right_bound, screen):\n",
    "    if left_bound < right_bound:\n",
    "        pivot = partition(array, left_bound, right_bound, screen)\n",
    "        quick_sort(array, left_bound, pivot - 1, screen)\n",
    "        quick_sort(array, pivot + 1, right_bound, screen)\n",
    "\n",
    "start_time = time.time()\n",
    "quick_sort(array, 0, len(array) - 1, screen)\n",
    "turtle.update()\n",
    "end_time = time.time()\n",
    "\n",
    "# Closing the window after timeout_after_finish seconds\n",
    "time.sleep(timeout_after_finish)\n",
    "screen.bye()\n",
    "\n",
    "print('Time required for the sorting is {} seconds'.format(end_time - start_time))"
   ]
  }
 ],
 "metadata": {
  "kernelspec": {
   "display_name": "newest",
   "language": "python",
   "name": "newest"
  },
  "language_info": {
   "codemirror_mode": {
    "name": "ipython",
    "version": 3
   },
   "file_extension": ".py",
   "mimetype": "text/x-python",
   "name": "python",
   "nbconvert_exporter": "python",
   "pygments_lexer": "ipython3",
   "version": "3.10.4"
  }
 },
 "nbformat": 4,
 "nbformat_minor": 5
}
