{
 "cells": [
  {
   "cell_type": "markdown",
   "id": "49f12f6c",
   "metadata": {},
   "source": [
    "## QR Algorithm\n",
    "\n",
    "**Tasks**\n",
    "1. Using Householder method, convert matrix\n",
    "$$\n",
    "\\boldsymbol{A} = \\begin{bmatrix}\n",
    "1 & 2 & 3 \\\\ 2 & 4 & -3 \\\\ 3 & -3 & 4\n",
    "\\end{bmatrix}\n",
    "$$\n",
    "to a Hessenberg form.\n",
    "\n",
    "2. Use QR algorithm to the resultant matrix and obtain eigenvalues."
   ]
  },
  {
   "cell_type": "markdown",
   "id": "0f15773a",
   "metadata": {},
   "source": [
    "### Task 1.\n",
    "\n",
    "Define $\\boldsymbol{A}_1:=\\boldsymbol{A}$.\n",
    "\n",
    "For each $k=1,\\dots,n-2$ we make the following steps. We build the following vectors:\n",
    "$$\n",
    "\\boldsymbol{a} = \\begin{bmatrix}\n",
    "0 \\\\ \\vdots \\\\ 0 \\\\ (\\boldsymbol{A}_k^{[k]})_{k+1} \\\\ \\vdots \\\\ (\\boldsymbol{A}_k^{[k]})_{n}\n",
    "\\end{bmatrix}, \\; \\boldsymbol{b} = \\|\\boldsymbol{a}\\|_2\\boldsymbol{e}_{k+1}, \\; \\boldsymbol{v} = \\begin{cases}\n",
    "\\frac{\\boldsymbol{a}-\\boldsymbol{b}}{\\|\\boldsymbol{a}-\\boldsymbol{b}\\|_2}, \\boldsymbol{a} \\neq \\boldsymbol{b} \\\\\n",
    "0, \\boldsymbol{a} = \\boldsymbol{b}\n",
    "\\end{cases}\n",
    "$$\n",
    "\n",
    "And matrices:\n",
    "$$\n",
    "\\boldsymbol{U} = \\boldsymbol{E} - 2\\boldsymbol{v}\\boldsymbol{v}^{\\top}, \\; \\boldsymbol{A}_{k+1}=\\boldsymbol{U}_k\\boldsymbol{A}_k\\boldsymbol{U}_k\n",
    "$$"
   ]
  },
  {
   "cell_type": "code",
   "execution_count": 38,
   "id": "87a1ef3c",
   "metadata": {},
   "outputs": [],
   "source": [
    "# Importing scipy and numpy and setting print options\n",
    "import numpy as np\n",
    "import scipy.linalg as scl\n",
    "\n",
    "np.set_printoptions(suppress=True, precision=3)"
   ]
  },
  {
   "cell_type": "code",
   "execution_count": 39,
   "id": "ed5da49d",
   "metadata": {},
   "outputs": [],
   "source": [
    "def to_hessenberg(A):\n",
    "    \"\"\"\n",
    "    to_hessenberg converts the specified matrix to a hessenberg form.\n",
    "    \n",
    "    Input:\n",
    "    A - square matrix\n",
    "    \n",
    "    Output:\n",
    "    matrix A in the Hessenberg form\n",
    "    \"\"\"\n",
    "    n = len(A) # Size of matrix A\n",
    "    E = np.identity(n) # Identity matrix\n",
    "    A = A.copy() # Copying the matrix A\n",
    "    for k in range(n-1):\n",
    "        v = A[:,k].copy() # Taking a kth column of matrix A\n",
    "        v[:k+1] = 0 # Making 0 on all position below (k+1)th (or above if we consider v as a vector)\n",
    "        v[k+1] = v[k+1] - np.linalg.norm(v, 2)  # From the element a_{k,k+1} we subtract norm of v\n",
    "        v = v / np.linalg.norm(v, 2) # Normalizing vector v\n",
    "        U = E - 2 * v.reshape(n,1).dot(v.reshape(1,n)) # Finding U_{k} = E - 2v*v^T\n",
    "        A = U.dot(A).dot(U) # Finding A_{k+1} = U_{k}A{k}U_{k}\n",
    "    return A"
   ]
  },
  {
   "cell_type": "code",
   "execution_count": 49,
   "id": "b67b018c",
   "metadata": {},
   "outputs": [
    {
     "name": "stdout",
     "output_type": "stream",
     "text": [
      "Hessenberg form of A is\n",
      "[[1.    3.606 0.   ]\n",
      " [3.606 1.231 1.154]\n",
      " [0.    1.154 6.769]]\n"
     ]
    }
   ],
   "source": [
    "A = np.array([\n",
    "    [1, 2, 3],\n",
    "    [2, 4, -3],\n",
    "    [3, -3, 4]\n",
    "], dtype=np.float64) # Defining our matrix\n",
    "\n",
    "H = to_hessenberg(A) # Converting A to a hessenberg form\n",
    "print('Hessenberg form of A is\\n{}'.format(H)) # Printing a result"
   ]
  },
  {
   "cell_type": "markdown",
   "id": "f1a04811",
   "metadata": {},
   "source": [
    "Let us check the result using built in function in SciPy $\\texttt{scl.hessenberg}$"
   ]
  },
  {
   "cell_type": "code",
   "execution_count": 50,
   "id": "b72fa19b",
   "metadata": {},
   "outputs": [
    {
     "name": "stdout",
     "output_type": "stream",
     "text": [
      "Hessenberg form of A using scipy is\n",
      "[[ 1.    -3.606  0.   ]\n",
      " [-3.606  1.231 -1.154]\n",
      " [ 0.    -1.154  6.769]]\n"
     ]
    }
   ],
   "source": [
    "H_scl = scl.hessenberg(A, calc_q=False)\n",
    "print('Hessenberg form of A using scipy is\\n{}'.format(H_scl))"
   ]
  },
  {
   "cell_type": "markdown",
   "id": "f5e3035e",
   "metadata": {},
   "source": [
    "### Task 2.\n",
    "\n",
    "Define $\\boldsymbol{A}_1=\\boldsymbol{A}$. On each step $k \\geq 1$ we do:\n",
    "1. Find QR decomposition of $\\boldsymbol{A}_k$: $\\boldsymbol{A}_k = \\boldsymbol{Q}_k\\boldsymbol{R}_k$.\n",
    "2. Set $\\boldsymbol{A}_{k+1}=\\boldsymbol{R}_k\\boldsymbol{Q}_k$"
   ]
  },
  {
   "cell_type": "code",
   "execution_count": 51,
   "id": "4825a6bb",
   "metadata": {},
   "outputs": [],
   "source": [
    "def qr_algorithm(A, steps_number=30):\n",
    "    \"\"\"\n",
    "    qr_algorithm returns a form of matrix A from which it is easy to retrieve eigenvalues\n",
    "    \n",
    "    Input:\n",
    "    A - specified matrix\n",
    "    steps_number - number of steps to complete\n",
    "    \n",
    "    Output:\n",
    "    modified matrix A\n",
    "    \"\"\"\n",
    "    M = A.copy() # Copying the matrix A\n",
    "    for i in range(steps_number):\n",
    "        Q, R = np.linalg.qr(M) # Finding QR decomposition of A\n",
    "        M = R.dot(Q) # Finding A_{k+1}=R_{k}Q_{k}\n",
    "    return M"
   ]
  },
  {
   "cell_type": "code",
   "execution_count": 53,
   "id": "de147aeb",
   "metadata": {},
   "outputs": [
    {
     "name": "stdout",
     "output_type": "stream",
     "text": [
      "After applying QR algorithm with 0 steps, we obtain a matrix\n",
      "[[1.    3.606 0.   ]\n",
      " [3.606 1.231 1.154]\n",
      " [0.    1.154 6.769]]\n",
      "After applying QR algorithm with 5 steps, we obtain a matrix\n",
      "[[ 6.78  -0.916 -0.   ]\n",
      " [-0.916  4.365  1.687]\n",
      " [-0.     1.687 -2.146]]\n",
      "After applying QR algorithm with 10 steps, we obtain a matrix\n",
      "[[ 7.119 -0.096  0.   ]\n",
      " [-0.096  4.441  0.107]\n",
      " [-0.     0.107 -2.56 ]]\n",
      "After applying QR algorithm with 15 steps, we obtain a matrix\n",
      "[[ 7.122 -0.009 -0.   ]\n",
      " [-0.009  4.439  0.007]\n",
      " [-0.     0.007 -2.562]]\n",
      "After applying QR algorithm with 20 steps, we obtain a matrix\n",
      "[[ 7.123 -0.001  0.   ]\n",
      " [-0.001  4.439  0.   ]\n",
      " [-0.     0.    -2.562]]\n",
      "After applying QR algorithm with 25 steps, we obtain a matrix\n",
      "[[ 7.123 -0.    -0.   ]\n",
      " [-0.     4.439  0.   ]\n",
      " [-0.     0.    -2.562]]\n"
     ]
    }
   ],
   "source": [
    "for i in range(6):\n",
    "    steps_number = 5*i # We make 20i steps\n",
    "    qr_A = qr_algorithm(H, steps_number=steps_number)\n",
    "    print('After applying QR algorithm with {} steps, we obtain a matrix\\n{}'.format(steps_number, qr_A))"
   ]
  },
  {
   "cell_type": "markdown",
   "id": "6edaae6e",
   "metadata": {},
   "source": [
    "Thus we see that after applying a $QR$ algorithm we get eigenvalues $\\lambda_1\\approx 7.123,\\lambda_2\\approx 4.439,\\lambda_3\\approx -2.562$."
   ]
  }
 ],
 "metadata": {
  "kernelspec": {
   "display_name": "newest",
   "language": "python",
   "name": "newest"
  },
  "language_info": {
   "codemirror_mode": {
    "name": "ipython",
    "version": 3
   },
   "file_extension": ".py",
   "mimetype": "text/x-python",
   "name": "python",
   "nbconvert_exporter": "python",
   "pygments_lexer": "ipython3",
   "version": "3.10.4"
  }
 },
 "nbformat": 4,
 "nbformat_minor": 5
}
