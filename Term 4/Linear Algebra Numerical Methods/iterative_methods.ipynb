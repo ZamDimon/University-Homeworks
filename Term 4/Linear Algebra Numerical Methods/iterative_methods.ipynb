{
 "cells": [
  {
   "cell_type": "markdown",
   "id": "ccd85040",
   "metadata": {},
   "source": [
    "# Iterative Methods\n",
    "\n",
    "**Task:** Consider a system of equations\n",
    "$$\n",
    "\\begin{cases}\n",
    "5x_1+x_2+x_3=10\\\\\n",
    "2x_1+6x_2+x_3=17\\\\\n",
    "2x_1+2x_2+7x_3=27\n",
    "\\end{cases}\n",
    "$$\n",
    "\n",
    "1. Verify that matrix of the system is diagonally dominant\n",
    "2. Write down the system in form $\\boldsymbol{x} = \\mathbf{C}\\boldsymbol{x}+\\boldsymbol{d}$ where $\\|\\mathbf{C}\\|<1$.\n",
    "3. Estimate norm $\\|\\mathbf{C}\\|$ and get a priori and posteriori estimate for given $\\varepsilon$\n",
    "4. Conduct experiments with programs implementing Jacobi and Gauss-Seidel methods. Find number of steps required to reach desired accuracy."
   ]
  },
  {
   "cell_type": "markdown",
   "id": "c57520c4",
   "metadata": {},
   "source": [
    "## Task 1.\n",
    "By definition, matrix $\\mathbf{A}=\\{a_{i,j}\\}_{i,j=1}^n$ is diagonally dominant iff:\n",
    "$$\n",
    "|a_{i,i}| > \\sum_{j \\neq i}|a_{i,j}|, \\; i=1,2,\\dots,n\n",
    "$$\n",
    "\n",
    "In our case we have:\n",
    "$$\n",
    "\\mathbf{M} = \\begin{bmatrix}\n",
    "5 & 1 & 1 \\\\ 2 & 6 & 1 \\\\ 2 & 2 & 7\n",
    "\\end{bmatrix}\n",
    "$$\n",
    "\n",
    "And, as\n",
    "$$\n",
    "|5| > |1| + |1| = |2|, \\; |6|>|2|+|1|=|3|, \\; |7|>|2|+|2|=|4|,\n",
    "$$\n",
    "\n",
    "we conclude that $\\mathbf{M}$ is indeed diagonally dominant."
   ]
  },
  {
   "cell_type": "markdown",
   "id": "66b888b1",
   "metadata": {},
   "source": [
    "## Task 2.\n",
    "To write down such form, we use the following relations:\n",
    "$$\n",
    "\\mathbf{C}=\\mathbf{E}-\\text{diag}^{-1}(\\mathbf{M})\\cdot\\mathbf{M}, \\; \\boldsymbol{d}= \\text{diag}^{-1}(\\mathbf{M})\\cdot\\boldsymbol{b}\n",
    "$$\n",
    "\n",
    "given system $\\mathbf{M}\\boldsymbol{x}=\\boldsymbol{b}$"
   ]
  },
  {
   "cell_type": "code",
   "execution_count": 10,
   "id": "19c59672",
   "metadata": {},
   "outputs": [
    {
     "name": "stdout",
     "output_type": "stream",
     "text": [
      "Matrix C equals\n",
      " [[ 0.         -0.2        -0.2       ]\n",
      " [-0.33333333  0.         -0.16666667]\n",
      " [-0.28571429 -0.28571429  0.        ]]\n",
      "Vector d equals\n",
      " [2.         2.83333333 3.85714286]\n"
     ]
    }
   ],
   "source": [
    "import numpy as np\n",
    "\n",
    "# Initialing matrix M and vector b\n",
    "M = np.array([[5,1,1],[2,6,1],[2,2,7]])\n",
    "b = np.array([10, 17, 27])\n",
    "\n",
    "# Finding inverse of diagonal matrix\n",
    "D = np.linalg.inv(np.diag(np.diag(M)))\n",
    "\n",
    "# Finding C and d according to formulas above\n",
    "C = np.identity(3) - np.matmul(D, M)\n",
    "d = np.matmul(D, b)\n",
    "\n",
    "# Prining results\n",
    "print(\"Matrix C equals\\n\", C)\n",
    "print(\"Vector d equals\\n\", d)"
   ]
  },
  {
   "cell_type": "markdown",
   "id": "64e590b8",
   "metadata": {},
   "source": [
    "Therefore, we have:\n",
    "$$\n",
    "\\mathbf{C} \\approx \\begin{bmatrix}\n",
    "0 & -0.2 & -0.2 \\\\\n",
    "-0.34 & 0 & -0.17 \\\\\n",
    "-0.29 & -0.29 & 0\n",
    "\\end{bmatrix}, \\; \\boldsymbol{d} \\approx \\begin{bmatrix}\n",
    "2 \\\\ 2.83 \\\\ 3.86\n",
    "\\end{bmatrix}\n",
    "$$"
   ]
  },
  {
   "cell_type": "markdown",
   "id": "b929e5b2",
   "metadata": {},
   "source": [
    "## Task 3."
   ]
  },
  {
   "cell_type": "code",
   "execution_count": 15,
   "id": "54a64c3d",
   "metadata": {},
   "outputs": [
    {
     "name": "stdout",
     "output_type": "stream",
     "text": [
      "Frobenius norm equals 0.6181862138638631\n",
      "Infinity norm equals 0.5714285714285714\n",
      "L1 norm equals 0.6190476190476191\n",
      "L2 norm equals 0.519065019898197\n"
     ]
    }
   ],
   "source": [
    "frobenius_norm = np.linalg.norm(C, 'fro')\n",
    "inf_norm = np.linalg.norm(C, np.inf)\n",
    "l1_norm = np.linalg.norm(C, 1)\n",
    "l2_norm = np.linalg.norm(C, 2)\n",
    "\n",
    "print('Frobenius norm equals', frobenius_norm)\n",
    "print('Infinity norm equals', inf_norm)\n",
    "print('L1 norm equals', l1_norm)\n",
    "print('L2 norm equals', l2_norm)"
   ]
  },
  {
   "cell_type": "markdown",
   "id": "d79bea92",
   "metadata": {},
   "source": [
    "Thus we take $\\|\\mathbf{C}\\| \\approx 0.6$. According to a posteriori estimate, we have:\n",
    "$$\n",
    "\\|\\boldsymbol{x}^{[k+1]}-\\boldsymbol{x}^{[k]}\\| < \\frac{\\varepsilon(1-\\|\\mathbf{C}\\|)}{\\|\\mathbf{C}\\|}\n",
    "$$\n",
    "\n",
    "If we put $\\|\\mathbf{C}\\|=0.6$ we obtain\n",
    "$$\n",
    "\\|\\boldsymbol{x}^{[k+1]}-\\boldsymbol{x}^{[k]}\\| < \\frac{2}{3}\\varepsilon\n",
    "$$\n",
    "\n",
    "In our experiments we will substitute $\\varepsilon=10^{-5}$, that way we should stop using iterative method when norm of vectors difference becomes smaller than $6.67\\cdot 10^{-6}$.\n",
    "\n",
    "A priori estimate claims that the number of steps is:\n",
    "$$\n",
    "k = \\left\\lfloor \\frac{\\ln \\frac{\\varepsilon(1-\\|\\mathbf{C}\\|)}{\\|\\boldsymbol{x}^{[1]}-\\boldsymbol{x}^{[0]}\\|}}{\\ln \\|\\mathbf{C}\\|} \\right\\rfloor\n",
    "$$"
   ]
  },
  {
   "cell_type": "code",
   "execution_count": 21,
   "id": "f6fefc46",
   "metadata": {},
   "outputs": [
    {
     "name": "stdout",
     "output_type": "stream",
     "text": [
      "k equals 30.527639475339548\n"
     ]
    }
   ],
   "source": [
    "epsilon = 10**(-5) # Initialize epsilon with a value of 10^(-5)\n",
    "C_norm = l1_norm # Take L1 norm \n",
    "x0 = np.array([0, 0, 0]) # Take zero array as a starting point\n",
    "x1 = np.matmul(C, x0) + d\n",
    "\n",
    "k = np.log(epsilon*(1-C_norm)/np.linalg.norm(x1-x0, 1))/np.log(C_norm)\n",
    "print(\"k equals\", k)"
   ]
  },
  {
   "cell_type": "markdown",
   "id": "74ab4b46",
   "metadata": {},
   "source": [
    "Thus we see that $k \\approx 31$."
   ]
  },
  {
   "cell_type": "markdown",
   "id": "2b7cf75e",
   "metadata": {},
   "source": [
    "## Task 4."
   ]
  },
  {
   "cell_type": "code",
   "execution_count": 31,
   "id": "90f5ab1f",
   "metadata": {},
   "outputs": [
    {
     "name": "stdout",
     "output_type": "stream",
     "text": [
      "--------------------\n",
      "Jacobi method\n",
      "--------------------\n",
      "Step #1: [2.0, 2.8333333333333335, 3.857142857142857]\n",
      "Step #2: [0.6619047619047619, 1.5238095238095237, 2.476190476190476]\n",
      "Step #3: [1.2, 2.1999999999999997, 3.23265306122449]\n",
      "Step #4: [0.9134693877551021, 1.8945578231292517, 2.885714285714286]\n",
      "Step #5: [1.0439455782312925, 2.047891156462585, 3.054849368318756]\n",
      "Step #6: [0.9794518950437319, 1.976209912536443, 2.9737609329446064]\n",
      "Step #7: [1.0100058309037903, 2.0112225461613216, 3.0126680549770932]\n",
      "Step #8: [0.9952218797723169, 1.9945533805358877, 2.9939347494099677]\n",
      "Step #9: [1.002302374010829, 2.0026035818408996, 3.002921354197656]\n",
      "Step #10: [0.9988950127922889, 1.9987456496301144, 2.9985982983280772]\n",
      "Step #11: [1.0005312104083617, 2.0006019460145574, 3.0006740964507417]\n",
      "Step #12: [0.9997447915069401, 1.9997105804554225, 2.999676241022023]\n",
      "Step #13: [1.000122635704511, 2.0001390293273498, 3.0001556080107536]\n",
      "Step #14: [0.9999410725323793, 1.9999331867633707, 2.9999252385623256]\n",
      "Step #15: [1.0000283149348608, 2.0000321027288193, 3.0000359259155003]\n",
      "Step #16: [0.9999863942711361, 1.9999845740357962, 2.9999827378103774]\n",
      "Step #17: [1.0000065376307652, 2.000007412274558, 3.0000082947694477]\n",
      "Step #18: [0.9999968585911988, 1.9999964383281703, 2.9999960143127646]\n",
      "Step #19: [1.0000015094718129, 2.000001711417473, 3.0000019151658948]\n",
      "We break on step #19 with a distance of 5.900853130125228e-06\n",
      "--------------------\n",
      "Gauss-Seidel method\n",
      "--------------------\n",
      "Step #1: [2.0, 2.1666666666666665, 2.666666666666667]\n",
      "Step #2: [1.0333333333333332, 2.0444444444444443, 2.977777777777778]\n",
      "Step #3: [0.9955555555555555, 2.005185185185185, 2.99978835978836]\n",
      "Step #4: [0.999005291005291, 2.0003668430335098, 3.0001793902746283]\n",
      "Step #5: [0.9998907533383724, 2.000006517174771, 3.000029351281959]\n",
      "Step #6: [0.9999928263086539, 1.999997499350122, 3.0000027640974927]\n",
      "Step #7: [0.999999947310477, 1.9999995568802589, 3.0000001416597897]\n",
      "We break on step #7 with a distance of 7.1210018230960515e-06\n"
     ]
    }
   ],
   "source": [
    "n = 3\n",
    "M = [[5,1,1],\n",
    "     [2,6,1],\n",
    "     [2,2,7]]\n",
    "b = [10,17,27]\n",
    "\n",
    "N = 30\n",
    "\n",
    "print('-'*20)\n",
    "print('Jacobi method')\n",
    "print('-'*20)\n",
    "\n",
    "x = [0,0,0]\n",
    "y = [0,0,0]\n",
    "\n",
    "for k in range(N):\n",
    "    for i in range(n):\n",
    "        y[i] = (-sum([M[i][j]*x[j] for j in range(n) if j != i]) + b[i])/M[i][i]\n",
    "    d = max([abs(x[i] - y[i]) for  i in range(n)]) \n",
    "    x = y.copy()\n",
    "    print('Step #{}: {}'.format(k+1, x))\n",
    "    if d < epsilon:\n",
    "        print('We break on step #{} with a distance of {}'.format(k+1, d))\n",
    "        break\n",
    "\n",
    "print('-'*20)\n",
    "print('Gauss-Seidel method')    \n",
    "print('-'*20)\n",
    "\n",
    "x = [0,0,0] \n",
    "\n",
    "for k in range(N):\n",
    "    d = 0\n",
    "    for i in range(n):\n",
    "        y = (-sum([M[i][j]*x[j] for j in range(n) if j != i]) + b[i])/M[i][i]\n",
    "        d = max(d,abs(x[i] - y))\n",
    "        x[i] = y\n",
    "    print('Step #{}: {}'.format(k+1, x))    \n",
    "    if d < epsilon:\n",
    "        print('We break on step #{} with a distance of {}'.format(k+1, d))\n",
    "        break"
   ]
  },
  {
   "cell_type": "markdown",
   "id": "8bfc0b67",
   "metadata": {},
   "source": [
    "Thus we see that for a Jacobi method we require 19 steps and for a Gauss-Seidel method 7 steps while priori estimate is 31 steps."
   ]
  }
 ],
 "metadata": {
  "kernelspec": {
   "display_name": "newest",
   "language": "python",
   "name": "newest"
  },
  "language_info": {
   "codemirror_mode": {
    "name": "ipython",
    "version": 3
   },
   "file_extension": ".py",
   "mimetype": "text/x-python",
   "name": "python",
   "nbconvert_exporter": "python",
   "pygments_lexer": "ipython3",
   "version": "3.10.4"
  }
 },
 "nbformat": 4,
 "nbformat_minor": 5
}
