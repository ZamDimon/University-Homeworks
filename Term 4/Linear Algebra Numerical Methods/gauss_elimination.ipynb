{
 "cells": [
  {
   "cell_type": "markdown",
   "id": "f0f83932",
   "metadata": {},
   "source": [
    "# Gauss Method of solving Linear Equations and Loss \n",
    "\n",
    "## Task 1. Implementing Gaussian Elimination Method for solving Linear Equations\n",
    "\n",
    "Firslty, we import needed packages:"
   ]
  },
  {
   "cell_type": "code",
   "execution_count": 1,
   "id": "8a7580a4",
   "metadata": {},
   "outputs": [],
   "source": [
    "# Used for finding an accurate solution\n",
    "from fractions import Fraction\n",
    "\n",
    "# This one will be used for some beautiful illustrations :)\n",
    "import matplotlib.pyplot as plt"
   ]
  },
  {
   "cell_type": "markdown",
   "id": "0c9b8a6e",
   "metadata": {},
   "source": [
    "During evaluation, we use the squared $\\ell_2$ norm, that is\n",
    "$$\n",
    "\\|\\boldsymbol{x}\\| := \\sum_{i=1}^n x_i^2\n",
    "$$\n",
    "\n",
    "We also define class $\\texttt{Gauss}$ which implements three primary functions:\n",
    "- $\\texttt{solve}(\\mathbf{M}, \\boldsymbol{b})$ - solves equation $\\mathbf{M}\\boldsymbol{x} = \\boldsymbol{b}$ for $\\mathbf{M} \\in \\mathbb{R}^{n\\times n}, \\boldsymbol{b} \\in \\mathbb{R}^n$ \n",
    "- $\\texttt{loss_matrix}(\\mathbf{M}, \\boldsymbol{b}, \\boldsymbol{x})$ - finds loss according to formula $\\mathcal{L}_M(\\boldsymbol{x} \\mid \\mathbf{M}, \\boldsymbol{b}):=\\|\\mathbf{M}\\boldsymbol{x} - \\boldsymbol{b}\\|$\n",
    "- $\\texttt{loss_vector}(\\hat{\\boldsymbol{x}}, \\boldsymbol{x})$ - finds loss according to formula $\\mathcal{L}_v(\\boldsymbol{x} \\mid \\hat{\\boldsymbol{x}}):=\\|\\boldsymbol{x} - \\hat{\\boldsymbol{x}}\\|$ where $\\hat{\\boldsymbol{x}}$ is a true equation's solution "
   ]
  },
  {
   "cell_type": "code",
   "execution_count": 2,
   "id": "6fde62fa",
   "metadata": {},
   "outputs": [],
   "source": [
    "class Gauss:\n",
    "    def l2_squared(X):\n",
    "        \"\"\"\n",
    "        Returns l2_squared norm defines as x1**2+x2**2+...+xn**2\n",
    "        \n",
    "        Input:\n",
    "        X - vector\n",
    "        \n",
    "        Output:\n",
    "        result - value of ||X||\n",
    "        \"\"\"\n",
    "        result = 0.0\n",
    "        for x in X:\n",
    "            result += x**2\n",
    "        return result\n",
    "    \n",
    "    def l1(X):\n",
    "        \"\"\"\n",
    "        Returns l1 norm defined as |x1|+|x2|+...+|xn|\n",
    "        \n",
    "        Input:\n",
    "        X - vector\n",
    "        \n",
    "        Output:\n",
    "        result - value of ||X||\n",
    "        \"\"\"\n",
    "        result = 0.0\n",
    "        for x in X:\n",
    "            result += abs(x)\n",
    "        return result\n",
    "    \n",
    "    # Defining a list of supported metrics\n",
    "    supported_metrics = {\n",
    "        'l1' : l1,\n",
    "        'l2_squared' : l2_squared\n",
    "    }\n",
    "    \n",
    "    def __init__(self, metric='l2_squared'):\n",
    "        # Settings a value from dictionary\n",
    "        self.metric = self.supported_metrics[metric]\n",
    "    \n",
    "    def solve(self, M, b):\n",
    "        \"\"\"\n",
    "        Input:\n",
    "        M - matrix of size nxn\n",
    "        b - vector on the right side of equation Mx=b with a size of n\n",
    "        \n",
    "        Output:\n",
    "        x - vector of length n - solution to a linear equation given M and b\n",
    "        \n",
    "        Note:\n",
    "        Function does not implement a main element method\n",
    "        \"\"\"\n",
    "        \n",
    "        assert len(M) == len(b), \"Matrix and vector must have the same size\"\n",
    "        \n",
    "        n = len(b)\n",
    "        x = [0] * n\n",
    "        \n",
    "        # Forward propagation\n",
    "        for i in range(n):\n",
    "            # Divide ith row by M[i][i]\n",
    "            for j in range(i+1,n): \n",
    "                M[i][j] = M[i][j] / M[i][i] \n",
    "            # Divide b[i] by M[i][i]\n",
    "            b[i] = b[i] / M[i][i]\n",
    "            # Settings M[i][i] to 1\n",
    "            M[i][i] = 1\n",
    "            # Subtracting from jth raw ith raw multiplied by M[i][i]\n",
    "            for j in range(i+1,n):\n",
    "                # Iterating from (i+1)th to nth columns\n",
    "                for k in range(i+1,n):\n",
    "                    # From kth element in row j subtract kth element in row i multiplied by M[j][i]\n",
    "                    M[j][k] = M[j][k] - M[i][k] * M[j][i]\n",
    "                # From b[j] subtract b[i] multiplied by M[j][i]\n",
    "                b[j] = b[j] - b[i] * M[j][i]\n",
    "                M[j][i] = 0\n",
    "                \n",
    "        # Backpropagation\n",
    "        for i in range(n-1,-1,-1):\n",
    "            x[i] = b[i]\n",
    "            for j in range(n-1-i):\n",
    "                x[i] = x[i] - x[i+j+1]*M[i][i+j+1]\n",
    "                \n",
    "        # Returning x\n",
    "        return x\n",
    "    \n",
    "    def loss_matrix(self, M, b, x):\n",
    "        \"\"\"\n",
    "        Input:\n",
    "        M, b - parameters of a linear equation Mx = b\n",
    "        x - solution to be tested\n",
    "        \n",
    "        Return:\n",
    "        Value of ||Mx-b||\n",
    "        \"\"\"\n",
    "        \n",
    "        assert len(M) == len(b), \"Matrix and vector must have the same size\"\n",
    "        \n",
    "        # Define vector d = Mx-b\n",
    "        n = len(b)\n",
    "        d = [0.0] * n\n",
    "        \n",
    "        for i in range(n):\n",
    "            # Finding d[i] as a sum of M[i][j]*x[j] for j=1,...,n\n",
    "            for j in range(n):\n",
    "                d[i] = d[i] + M[i][j] * x[j]\n",
    "            # Subtracting b[i] component\n",
    "            d[i] = d[i] - b[i]\n",
    "        \n",
    "        # Returning a norm of this vector\n",
    "        return self.metric(d)\n",
    "    \n",
    "    def loss_vector(self, x_real, x):\n",
    "        \"\"\"\n",
    "        Input:\n",
    "        x_real - a real solution of equation\n",
    "        x - solution to be tested\n",
    "        \n",
    "        Return:\n",
    "        Value of ||x-x_real||\n",
    "        \"\"\"\n",
    "        \n",
    "        # Defining a vector d = x - x_real\n",
    "        n = len(x)\n",
    "        d = [0] * n\n",
    "        for i in range(n):\n",
    "            d[i] = x[i] - x_real[i]\n",
    "        \n",
    "        return self.metric(d)"
   ]
  },
  {
   "cell_type": "markdown",
   "id": "a15965b4",
   "metadata": {},
   "source": [
    "Let us test our class for the following values of $\\mathbf{M}$ and $\\boldsymbol{b}$:\n",
    "\n",
    "$$\n",
    "\\mathbf{M} = \n",
    "\\begin{bmatrix}\n",
    "4.6 & -1.7 & 0.7 \\\\\n",
    "8.0 & -2.1 & 0.9 \\\\\n",
    "5.2 & -4.2 & 2.0 \n",
    "\\end{bmatrix}, \\; \\boldsymbol{b} = \n",
    "\\begin{bmatrix}\n",
    "2.0 \\\\ 7.0 \\\\ 3.0\n",
    "\\end{bmatrix}\n",
    "$$\n",
    "\n",
    "The solution, according to _Wolfram Mathematica_ is\n",
    "$$\n",
    "\\boldsymbol{x} = \\begin{bmatrix}\n",
    "1.53203 \\\\ 14.3872 \\\\ 27.7298\n",
    "\\end{bmatrix}\n",
    "$$\n",
    "\n",
    "Loss value $\\mathcal{L}_M=\\|\\mathbf{M}\\boldsymbol{x} - \\boldsymbol{b}\\|$ must be low for this particular example"
   ]
  },
  {
   "cell_type": "code",
   "execution_count": 3,
   "id": "975b75d5",
   "metadata": {},
   "outputs": [
    {
     "name": "stdout",
     "output_type": "stream",
     "text": [
      "Result is [1.532033426183844, 14.387186629526466, 27.72980501392759]\n",
      "Loss is 1.232595164407831e-32\n"
     ]
    }
   ],
   "source": [
    "# Define gauss object\n",
    "gauss = Gauss(metric='l2_squared')\n",
    "\n",
    "# Defining parameters of a linear equation (Mx = b)\n",
    "M = [\n",
    "    [4.6, -1.7, 0.7],\n",
    "    [8.0, -2.1, 0.9],\n",
    "    [5.2, -4.2, 2.0]\n",
    "]\n",
    "b = [2.0, 7.0, 3.0]\n",
    "\n",
    "# Finding answer and value of loss\n",
    "x = gauss.solve(M, b)\n",
    "loss = gauss.loss_matrix(M, b, x)\n",
    "\n",
    "print('Result is', x)\n",
    "print('Loss is', loss)"
   ]
  },
  {
   "cell_type": "markdown",
   "id": "6de5ed32",
   "metadata": {},
   "source": [
    "## Task 2. Finding approximate solution with M being Hilbert matrix\n",
    "\n",
    "Hilbert matrix $\\mathbf{H}_n$ is defined as:\n",
    "\n",
    "$$\n",
    "\\mathbf{H}_n = \\left\\{ \\frac{1}{i+j-1} \\right\\}_{i,j=1}^n = \\begin{bmatrix}\n",
    "1 & \\frac{1}{2} & \\frac{1}{3} & \\dots & \\frac{1}{n} \\\\\n",
    "\\frac{1}{2} & \\frac{1}{3} & \\frac{1}{4} & \\dots & \\frac{1}{n+1} \\\\\n",
    "\\frac{1}{3} & \\frac{1}{4} & \\frac{1}{5} & \\dots & \\frac{1}{n+2} \\\\ \n",
    "\\vdots & \\vdots & \\vdots & \\ddots & \\vdots \\\\\n",
    "\\frac{1}{n} & \\frac{1}{n+1} & \\frac{1}{n+2} & \\dots & \\frac{1}{2n-1}\n",
    "\\end{bmatrix}\n",
    "$$\n",
    "\n",
    "We need to find solution of equation $\\mathbf{H}_n\\boldsymbol{x} = \\boldsymbol{b}$ for specified $\\boldsymbol{b}$"
   ]
  },
  {
   "cell_type": "code",
   "execution_count": 4,
   "id": "e37be0bb",
   "metadata": {},
   "outputs": [
    {
     "name": "stdout",
     "output_type": "stream",
     "text": [
      "Hilbert matrix for n=3 is\n",
      " [[1.0, 0.5, 0.3333333333333333], [0.5, 0.3333333333333333, 0.25], [0.3333333333333333, 0.25, 0.2]]\n"
     ]
    }
   ],
   "source": [
    "def real_hilbert_matrix(dimensionality=5):\n",
    "    \"\"\"\n",
    "    Input:\n",
    "    dimensionality - dimensionality of a hilbert matrix\n",
    "    \n",
    "    Output:\n",
    "    H - hilbert matrix\n",
    "    \"\"\"\n",
    "    H = []\n",
    "    for i in range(dimensionality):\n",
    "        row = [0.0] * dimensionality\n",
    "        for j in range(dimensionality):\n",
    "            row[j] = 1.0/(i+j+1)\n",
    "        H.append(row)\n",
    "    return H\n",
    "    \n",
    "H = real_hilbert_matrix(dimensionality=3)\n",
    "print('Hilbert matrix for n=3 is\\n', H)"
   ]
  },
  {
   "cell_type": "code",
   "execution_count": 5,
   "id": "49e06231",
   "metadata": {},
   "outputs": [
    {
     "name": "stdout",
     "output_type": "stream",
     "text": [
      "Result is [4.999999999994515, -119.99999999991303, 629.9999999996655, -1119.9999999995366, 629.9999999997882]\n",
      "Loss is 1.7976562308176417e-26\n"
     ]
    }
   ],
   "source": [
    "# Defining dimensionality\n",
    "n = 5\n",
    "# Defining a test vector b\n",
    "b = [1.0] * n\n",
    "# Defining a Hilbert matrix\n",
    "H = real_hilbert_matrix(dimensionality=n)\n",
    "\n",
    "x = gauss.solve(H, b)\n",
    "print('Result is', x)\n",
    "\n",
    "loss = gauss.loss_matrix(H, b, x)\n",
    "print('Loss is', loss)"
   ]
  },
  {
   "cell_type": "markdown",
   "id": "4321db86",
   "metadata": {},
   "source": [
    "## Task 3. Finding solution using Fraction package"
   ]
  },
  {
   "cell_type": "code",
   "execution_count": 6,
   "id": "0d762f69",
   "metadata": {},
   "outputs": [],
   "source": [
    "def fraction_hilbert_matrix(dimensionality=5):\n",
    "    \"\"\"\n",
    "    Input:\n",
    "    dimensionality - dimensionality of a hilbert matrix\n",
    "    \n",
    "    Output:\n",
    "    H - hilbert matrix\n",
    "    \"\"\"\n",
    "    H = []\n",
    "    for i in range(dimensionality):\n",
    "        row = [0.0] * dimensionality\n",
    "        for j in range(dimensionality):\n",
    "            row[j] = Fraction(1, i+j+1)\n",
    "        H.append(row)\n",
    "    return H"
   ]
  },
  {
   "cell_type": "code",
   "execution_count": 7,
   "id": "4a31de51",
   "metadata": {},
   "outputs": [
    {
     "name": "stdout",
     "output_type": "stream",
     "text": [
      "Result is [Fraction(5, 1), Fraction(-120, 1), Fraction(630, 1), Fraction(-1120, 1), Fraction(630, 1)]\n",
      "Loss is 0.0\n"
     ]
    }
   ],
   "source": [
    "# Defining dimensionality\n",
    "n = 5\n",
    "# Defining a test vector b\n",
    "b = [int(1)] * n\n",
    "# Defining a Hilbert matrix\n",
    "H = fraction_hilbert_matrix(dimensionality=n)\n",
    "\n",
    "x = gauss.solve(H, b)\n",
    "print('Result is', x)\n",
    "\n",
    "loss = gauss.loss_matrix(H, b, x)\n",
    "print('Loss is', loss)"
   ]
  },
  {
   "cell_type": "markdown",
   "id": "543a0838",
   "metadata": {},
   "source": [
    "## Task 4. Experimenting with different values of n\n",
    "\n",
    "We also build dependencies of losses $\\mathcal{L}_v$ and $\\mathcal{L}_M$ depending on a dimensionality $n$ using $\\boldsymbol{b} = \\mathbf{1}_n$."
   ]
  },
  {
   "cell_type": "code",
   "execution_count": 8,
   "id": "de97c407",
   "metadata": {},
   "outputs": [],
   "source": [
    "# Defining n_min, n_max - minimum and maximum value of n to be tested, respectively\n",
    "n_min = 7\n",
    "n_max = 16\n",
    "\n",
    "# Defining array used for plotting\n",
    "n_plot = list(range(n_min, n_max+1))\n",
    "losses_vector = []\n",
    "losses_matrix = []\n",
    "\n",
    "for n in range(n_min, n_max+1):\n",
    "    # Note: obviously forming a new matrix and vector b is not computationally\n",
    "    # effective, but that makes code much more readable\n",
    "    \n",
    "    # Defining a test vectors b - one is real and the other one is using fractional package\n",
    "    b_fractional = [int(1)] * n\n",
    "    b_real = [1.0] * n\n",
    "\n",
    "    # Defining Hilbert matrices - one is real and the other one is using fractional package\n",
    "    H_real = real_hilbert_matrix(dimensionality=n)\n",
    "    H_fractional = fraction_hilbert_matrix(dimensionality=n)\n",
    "    \n",
    "    real_x = gauss.solve(H_fractional, b_fractional)\n",
    "    x = gauss.solve(H_real, b_real)\n",
    "    \n",
    "    loss_vector = gauss.loss_vector(real_x, x)\n",
    "    loss_matrix = gauss.loss_matrix(H_real, b_real, x)\n",
    "    \n",
    "    losses_vector.append(loss_vector)\n",
    "    losses_matrix.append(loss_matrix)"
   ]
  },
  {
   "cell_type": "code",
   "execution_count": 10,
   "id": "07bc11fc",
   "metadata": {},
   "outputs": [
    {
     "data": {
      "image/png": "[encoded data removed]",
      "text/plain": [
       "<Figure size 864x576 with 1 Axes>"
      ]
     },
     "metadata": {
      "needs_background": "light"
     },
     "output_type": "display_data"
    }
   ],
   "source": [
    "plt.plot(n_plot, losses_vector, label = \"Vector losses\", color='r')\n",
    "plt.plot(n_plot, losses_matrix, label = \"Matrix losses\", color='b')\n",
    "\n",
    "plt.xlabel('n')\n",
    "plt.ylabel('Loss')\n",
    "plt.title('Loss depending on parameter n')\n",
    "  \n",
    "plt.rcParams['figure.figsize'] = [12, 8]\n",
    "    \n",
    "plt.legend()\n",
    "plt.grid()\n",
    "plt.show()"
   ]
  },
  {
   "cell_type": "markdown",
   "id": "dcdb571b",
   "metadata": {},
   "source": [
    "**Conclusion**: For the given case we see that losses\n",
    "$$\n",
    "\\mathcal{L}_v(\\boldsymbol{x} \\mid \\hat{\\boldsymbol{x}}) = \\|\\boldsymbol{x} - \\hat{\\boldsymbol{x}}\\| \\\\\n",
    "$$\n",
    "\n",
    "$$\n",
    "\\mathcal{L}_M(\\boldsymbol{x} \\mid \\mathbf{M}, \\boldsymbol{b}) = \\|\\mathbf{M}\\boldsymbol{x} - \\boldsymbol{b}\\|\n",
    "$$\n",
    "\n",
    "give completely different results for $n>15$. Thus, $\\mathcal{L}_M$ cannot be considered as a valid metric for accuracy evaluation "
   ]
  }
 ],
 "metadata": {
  "kernelspec": {
   "display_name": "newest",
   "language": "python",
   "name": "newest"
  },
  "language_info": {
   "codemirror_mode": {
    "name": "ipython",
    "version": 3
   },
   "file_extension": ".py",
   "mimetype": "text/x-python",
   "name": "python",
   "nbconvert_exporter": "python",
   "pygments_lexer": "ipython3",
   "version": "3.10.4"
  }
 },
 "nbformat": 4,
 "nbformat_minor": 5
}
