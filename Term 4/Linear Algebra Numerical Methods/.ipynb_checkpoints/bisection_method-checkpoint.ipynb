{
 "cells": [
  {
   "cell_type": "markdown",
   "id": "48b8632d",
   "metadata": {},
   "source": [
    "## Bisection Method\n",
    "\n",
    "**Step 1.** Find segment $[a,b]$ on which all eigenvalues are located. For example, $[-\\|\\boldsymbol{A}\\|_1,+\\|\\boldsymbol{A}\\|_1]$\n",
    "\n",
    "**Step 2.** For each $i=0,\\dots,N$ we:\n",
    "- compute $c = \\frac{a+b}{2}$;\n",
    "- find sequence $\\{\\sigma_k\\}_{k=0}^n$ according to:\n",
    "$$\n",
    "\\sigma_0 = 1, \\; \\sigma_1 = \\alpha_1 - c, \\; \\sigma_{k+1} = (\\alpha_{k+1}-c)\\sigma_k - \\beta_k^2 \\sigma_{k-1};\n",
    "$$\n",
    "- find number of sign changes $s$ in sequence $\\{\\sigma_k\\}_{k=0}^n$;\n",
    "- If $s < r$, set $a=c$, otherwise $b=c$.\n",
    "\n",
    "#### Task\n",
    "Make up a symmetric tridiagonal matrix $\\boldsymbol{A} \\in \\mathbb{R}^{4 \\times 4}$ and apply _bisection method_ to find its $3^{\\text{rd}}$ eigenvalue. "
   ]
  },
  {
   "cell_type": "code",
   "execution_count": 26,
   "id": "2618f89b",
   "metadata": {},
   "outputs": [],
   "source": [
    "# Import numpy and set print options\n",
    "import numpy as np\n",
    "\n",
    "np.set_printoptions(precision=4)"
   ]
  },
  {
   "cell_type": "code",
   "execution_count": 40,
   "id": "fc4e7abd",
   "metadata": {},
   "outputs": [],
   "source": [
    "def tridiagonal_symmetric_norm(alpha, beta):\n",
    "    \"\"\"\n",
    "    tridiagonal_norm find L_infty norm of tridiagonal symmetric matrix\n",
    "    Input:\n",
    "    alpha - diagonal entries\n",
    "    beta - entries above and below the diagona\n",
    "    \n",
    "    Output:\n",
    "    L_infty norm of matrix\n",
    "    \"\"\"\n",
    "    \n",
    "    n = len(alpha) # Size of a matrix \n",
    "    # Finding max of rows sum containing three elements\n",
    "    rows_max = max([abs(beta[j-1]) + abs(alpha[j]) + abs(beta[j]) for j in range(1, n-1)])\n",
    "    row_1 = abs(alpha[0]) + abs(beta[0]) # Finding the first row's sum\n",
    "    row_n = abs(alpha[-1]) + abs(beta[-1]) # Finding the last row's sum\n",
    "    return max([row_1, rows_max, row_n])\n",
    "\n",
    "def offset_minors(alpha, beta, offset):\n",
    "    \"\"\"\n",
    "    minors finds minors of tridiagonal symmetric matrix with a given offset\n",
    "    Input:\n",
    "    alpha - diagonal entries\n",
    "    beta - entries above and below the diagona\n",
    "    offset - offset (value of c in algorithm above)\n",
    "    \n",
    "    Output:\n",
    "    A slice of length n+1 with given minors\n",
    "    \"\"\"\n",
    "    \n",
    "    n = len(alpha) # Finding a size of matrix A\n",
    "    sigma = np.empty(n+1) # Filling sigmas\n",
    "    sigma[0] = 1 # First sigma is 1\n",
    "    sigma[1] = alpha[0] - offset # Setting initial sigma[1] \n",
    "    for i in range (2,n+1) :\n",
    "        sigma[i] = (alpha[i-1]-offset)*sigma[i-1] - beta[i-2]**2 * sigma[i-2]\n",
    "    return sigma\n",
    "\n",
    "def sign_changes(sigma):\n",
    "    \"\"\"\n",
    "    sign_changes finds number of sign changes in a given array of sigmas\n",
    "    Input:\n",
    "    sigma - array of sigmas\n",
    "    Output:\n",
    "    number of sign changes\n",
    "    \"\"\"\n",
    "    \n",
    "    n = len(sigma)-1 # Size of matrix A is len(sigma) - 1\n",
    "    sigma = np.where(sigma<0, -1, 1) # Store signs only in array of sigma\n",
    "    # Filtering when product of two adjacent elements is negative and sum this number\n",
    "    sign_changes = (sigma[1:]*sigma[:n] < 0).sum()\n",
    "    return sign_changes\n",
    "\n",
    "def bisection_method(alpha, beta, r=0, steps_number=30):\n",
    "    \"\"\"\n",
    "    bisection_method finds r^th eigenvalue of A using bisection method\n",
    "    \n",
    "    Input:\n",
    "    alpha - diagonal entries\n",
    "    beta - entries above and below the diagona\n",
    "    r - eigenvalue number to find\n",
    "    steps_number - (optional) number of steps to make\n",
    "    \n",
    "    Output:\n",
    "    Searched eigenvalue\n",
    "    \"\"\"\n",
    "    \n",
    "    n = len(alpha) # Finding a size of alpha\n",
    "    b = tridiagonal_symmetric_norm(alpha, beta) # Finding norm of matrix\n",
    "    a = -b # Making segment [-norm, +norm]\n",
    "    c = 0 # Number c in algorithm; will approach a searched eigenvalue\n",
    "    \n",
    "    for i in range(steps_number):\n",
    "        c = (a+b)/2 # Finding a middle point of segment [a,b]\n",
    "        minors = offset_minors(alpha, beta, offset=c) # Finding matrix minors\n",
    "        sign_changes_num = sign_changes(minors) # Finding number of sign changes\n",
    "        if sign_changes_num < r:\n",
    "            a = c\n",
    "        else:\n",
    "            b = c\n",
    "    return c"
   ]
  },
  {
   "cell_type": "markdown",
   "id": "734f452f",
   "metadata": {},
   "source": [
    "Let us check our results on a matrix\n",
    "$$\n",
    "\\boldsymbol{A} = \\begin{bmatrix}\n",
    "2 & 1 & 0 & 0 \\\\\n",
    "1 & 2 & 1 & 0 \\\\\n",
    "0 & 1 & 2 & 1 \\\\\n",
    "0 & 0 & 1 & 2\n",
    "\\end{bmatrix}\n",
    "$$"
   ]
  },
  {
   "cell_type": "code",
   "execution_count": 41,
   "id": "ab238692",
   "metadata": {},
   "outputs": [
    {
     "name": "stdout",
     "output_type": "stream",
     "text": [
      "Eigenvalues of a given matrix are [3.618 2.618 0.382 1.382]\n",
      "The eigenvalue #1 of a given matrix is 0.3819660171866417\n",
      "The eigenvalue #2 of a given matrix is 1.3819660171866417\n",
      "The eigenvalue #3 of a given matrix is 2.6180339828133583\n",
      "The eigenvalue #4 of a given matrix is 3.6180339828133583\n"
     ]
    }
   ],
   "source": [
    "# Find eigenvalues using np.linalg.eigvals function\n",
    "expected_lambdas = np.linalg.eigvals(np.array([\n",
    "    [2, 1, 0, 0],\n",
    "    [1, 2, 1, 0],\n",
    "    [0, 1, 2, 1],\n",
    "    [0, 0, 1, 2]\n",
    "], dtype=np.float64))\n",
    "# Print expected result\n",
    "print('Eigenvalues of a given matrix are {}'.format(expected_lambdas))\n",
    "\n",
    "# Forming an array of alphas and betas\n",
    "alpha = np.full(4, 2.0)\n",
    "beta = np.full(3, 1.0)\n",
    "\n",
    "for i in range(1, 5):\n",
    "    # Finding eigenvalues according to our algorithm and printing a result\n",
    "    actual_lambda = bisection_method(alpha, beta, r=i, steps_number=30)\n",
    "    print('The eigenvalue #{} of a given matrix is {}'.format(i, actual_lambda))"
   ]
  },
  {
   "cell_type": "markdown",
   "id": "e844405b",
   "metadata": {},
   "source": [
    "Now, let us apply our method on a matrix\n",
    "$$\n",
    "\\boldsymbol{A} = \\begin{bmatrix}\n",
    "1 & 3 & 0 & 0 \\\\\n",
    "3 & 2 & 5 & 0 \\\\\n",
    "0 & 5 & 3 & 7 \\\\\n",
    "0 & 0 & 7 & 4\n",
    "\\end{bmatrix}\n",
    "$$"
   ]
  },
  {
   "cell_type": "code",
   "execution_count": 42,
   "id": "c411fe5c",
   "metadata": {},
   "outputs": [
    {
     "name": "stdout",
     "output_type": "stream",
     "text": [
      "Expected third eigenvalue is 4.417669790511108\n",
      "Actual third eigenvalue is 4.417669801041484\n"
     ]
    }
   ],
   "source": [
    "# Defining diagonal elements\n",
    "alpha = np.array([1.0, 2.0, 3.0, 4.0], dtype=np.float64)\n",
    "beta = np.array([3.0, 5.0, 7.0], dtype=np.float64)\n",
    "\n",
    "# Using np.linalg.eigvals function to find the third eigenvalue:\n",
    "sorted_expected_eigvals = sorted(np.linalg.eigvals(np.array([\n",
    "    [1, 3, 0, 0],\n",
    "    [3, 2, 5, 0],\n",
    "    [0, 5, 3, 7],\n",
    "    [0, 0, 7, 4]\n",
    "], dtype=np.float64)))\n",
    "print('Expected third eigenvalue is {}'.format(sorted_expected_eigvals[2]))\n",
    "\n",
    "# Applying our algorithm to find third eigenvalue\n",
    "actual_eigval = bisection_method(alpha, beta, r=3, steps_number=30)\n",
    "print('Actual third eigenvalue is {}'.format(actual_eigval))"
   ]
  }
 ],
 "metadata": {
  "kernelspec": {
   "display_name": "newest",
   "language": "python",
   "name": "newest"
  },
  "language_info": {
   "codemirror_mode": {
    "name": "ipython",
    "version": 3
   },
   "file_extension": ".py",
   "mimetype": "text/x-python",
   "name": "python",
   "nbconvert_exporter": "python",
   "pygments_lexer": "ipython3",
   "version": "3.10.4"
  }
 },
 "nbformat": 4,
 "nbformat_minor": 5
}
