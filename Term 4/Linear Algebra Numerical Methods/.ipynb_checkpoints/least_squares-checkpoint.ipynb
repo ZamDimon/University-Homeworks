{
 "cells": [
  {
   "cell_type": "markdown",
   "id": "30f780e2",
   "metadata": {},
   "source": [
    "## Least squares method\n",
    "\n",
    "Suppose we are given a dataset $\\mathcal{D} = \\{x_i,y_i\\}_{i=1}^m$ and we suspect $y(x)$ dependency to be linear.\n",
    "\n",
    "Suppose that $y(x) = \\alpha x + \\beta$. In that case we choose $(\\alpha,\\beta)$ such that:\n",
    "$$\n",
    "\\alpha,\\beta = \\arg\\min_{\\alpha,\\beta} f(\\alpha,\\beta), \\; f(\\alpha,\\beta):= \\sum_{k=1}^m (\\alpha x_k + \\beta - y_k)^2 \n",
    "$$\n",
    "\n",
    "Using condition $\\nabla_{(\\alpha,\\beta)} f=\\boldsymbol{0}$ we arrive at an equation:\n",
    "$$\n",
    "\\begin{bmatrix}\n",
    "\\sum_{k=1}^m x_k^2 & \\sum_{k=1}^m x_k \\\\ \\sum_{k=1}^m x_k & m\n",
    "\\end{bmatrix} \\begin{bmatrix}\n",
    "\\alpha \\\\ \\beta\n",
    "\\end{bmatrix} = \\begin{bmatrix}\n",
    "\\sum_{k=1}^m x_ky_k \\\\ \\sum_{k=1}^m y_k\n",
    "\\end{bmatrix}\n",
    "$$\n",
    "\n",
    "### Task.\n",
    "Choose 4-5 points lying almost on the same line and apply a least square method to find a line that approximate $y(x)$ dependency.\n",
    "\n",
    "**Solution**. To check how this method works, we fixate $\\alpha,\\beta$ and then choose a set of points:\n",
    "$$\n",
    "\\{x_i, f(x_i) + \\mathcal{N}(x_i \\mid 0, \\sigma)\\}_{i=1}^m\n",
    "$$\n",
    "\n",
    "where $f(x_i)=\\alpha x_i+\\beta$."
   ]
  },
  {
   "cell_type": "code",
   "execution_count": 2,
   "id": "0050e36f",
   "metadata": {},
   "outputs": [],
   "source": [
    "import numpy as np\n",
    "import matplotlib.pyplot as plt"
   ]
  },
  {
   "cell_type": "code",
   "execution_count": 3,
   "id": "39d25cb8",
   "metadata": {},
   "outputs": [],
   "source": [
    "def generate_points(slope, y_intercept, interval=(0,1), noise_strength=0, points_num=100):\n",
    "    \"\"\"\n",
    "    generate_points generates a list of points along t\n",
    "    Input:\n",
    "    slope, y_intercept - coefficients of line ax+b\n",
    "    interval - an array with 2 elements representing a segment on which plot points\n",
    "    noise_strength - a sigma value being used in gauss noise\n",
    "    points_num - number of points to generate\n",
    "    \n",
    "    Output:\n",
    "    X, Y - a set of x and y points, respectively\n",
    "    \"\"\"\n",
    "    \n",
    "    a, b = interval    \n",
    "    X = np.arange(a, b, (b-a)/points_num)\n",
    "    Y = slope*X + y_intercept\n",
    "    Y = Y + np.random.normal(loc=0, scale=noise_strength, size=len(X))\n",
    "    return X, Y"
   ]
  },
  {
   "cell_type": "markdown",
   "id": "546c9592",
   "metadata": {},
   "source": [
    "Then we find $\\alpha,\\beta$ according to the method described above"
   ]
  },
  {
   "cell_type": "code",
   "execution_count": 8,
   "id": "d0a4a9c1",
   "metadata": {},
   "outputs": [],
   "source": [
    "def least_squares_method(X, Y):\n",
    "    \"\"\"\n",
    "    least_squares_method returns a slope and y-intercept of a \n",
    "    line after applying least squares method on a set of points X, Y\n",
    "    \n",
    "    Input:\n",
    "    X, Y - set of x and y coordinates\n",
    "    \n",
    "    Output:\n",
    "    slope, y_intercept - coefficient a and b, respectively, in line equation y=ax+b\n",
    "    \"\"\"\n",
    "    \n",
    "    m = len(X)\n",
    "    sx2 = np.sum(X**2)\n",
    "    sx = np.sum(X)\n",
    "    sxy = np.sum(X*Y)\n",
    "    sy = np.sum(Y)\n",
    "    M = np.array([[sx2, sx],\n",
    "                  [sx,  m]])\n",
    "    b = np.array([sxy, sy])\n",
    "    slope, y_intercept = np.linalg.solve(M, b)\n",
    "    return slope, y_intercept"
   ]
  },
  {
   "cell_type": "markdown",
   "id": "81b14079",
   "metadata": {},
   "source": [
    "We then draw these points and our solution:"
   ]
  },
  {
   "cell_type": "code",
   "execution_count": 22,
   "id": "7dc2baa9",
   "metadata": {},
   "outputs": [
    {
     "name": "stdout",
     "output_type": "stream",
     "text": [
      "y-intercept is 0.44763945386693693 and slope is 2.5403520391035475\n"
     ]
    },
    {
     "data": {
      "image/png": "[encoded data removed]",
      "text/plain": [
       "<Figure size 432x288 with 1 Axes>"
      ]
     },
     "metadata": {
      "needs_background": "light"
     },
     "output_type": "display_data"
    }
   ],
   "source": [
    "X, Y = generate_points(2.3, 1.2, interval=(0,5), noise_strength=1.0, points_num=30)\n",
    "alpha, beta = least_squares_method(X, Y)\n",
    "\n",
    "fig, ax = plt.subplots()\n",
    "ax.grid()\n",
    "ax.scatter(X, Y, marker='x', color='red')\n",
    "ax.axline([0, beta], slope=alpha, color='blue')\n",
    "plt.tight_layout()\n",
    "\n",
    "print('y-intercept is {} and slope is {}'.format(beta, alpha))"
   ]
  },
  {
   "cell_type": "code",
   "execution_count": null,
   "id": "1e9d6513",
   "metadata": {},
   "outputs": [],
   "source": []
  }
 ],
 "metadata": {
  "kernelspec": {
   "display_name": "newest",
   "language": "python",
   "name": "newest"
  },
  "language_info": {
   "codemirror_mode": {
    "name": "ipython",
    "version": 3
   },
   "file_extension": ".py",
   "mimetype": "text/x-python",
   "name": "python",
   "nbconvert_exporter": "python",
   "pygments_lexer": "ipython3",
   "version": "3.10.4"
  }
 },
 "nbformat": 4,
 "nbformat_minor": 5
}
