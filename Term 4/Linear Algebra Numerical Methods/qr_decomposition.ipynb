{
 "cells": [
  {
   "cell_type": "markdown",
   "id": "e7f6dde9",
   "metadata": {},
   "source": [
    "## QR Decomposition\n",
    "Given a matrix\n",
    "$$\n",
    "\\boldsymbol{A} = \\begin{bmatrix}\n",
    "2 & 0 & -1 \\\\\n",
    "2 & 4 & -3 \\\\\n",
    "3 & 2 & 4\n",
    "\\end{bmatrix},\n",
    "$$\n",
    "\n",
    "find its QR Decomposition using:\n",
    "- Gram Schmidt method\n",
    "- Householder method "
   ]
  },
  {
   "cell_type": "markdown",
   "id": "65f62728",
   "metadata": {},
   "source": [
    "But first, let us calculate the answer beforehand using the built-in function $\\texttt{np.linalg.qr(A)}$"
   ]
  },
  {
   "cell_type": "code",
   "execution_count": 48,
   "id": "908cc127",
   "metadata": {},
   "outputs": [
    {
     "name": "stdout",
     "output_type": "stream",
     "text": [
      "Matrix Q is\n",
      "[[-0.485  0.566 -0.667]\n",
      " [-0.485 -0.808 -0.333]\n",
      " [-0.728  0.162  0.667]]\n",
      "Matrix R is\n",
      "[[-4.123 -3.395 -0.97 ]\n",
      " [ 0.    -2.91   2.506]\n",
      " [ 0.     0.     4.333]]\n"
     ]
    }
   ],
   "source": [
    "import numpy as np\n",
    "np.set_printoptions(suppress=True, precision=3)\n",
    "\n",
    "A = np.array([\n",
    "    [2, 0, -1],\n",
    "    [2, 4, -3],\n",
    "    [3, 2, 4]\n",
    "], dtype=np.float64)\n",
    "\n",
    "Q, R = np.linalg.qr(A)\n",
    "print(\"Matrix Q is\\n{}\".format(Q))\n",
    "print(\"Matrix R is\\n{}\".format(R))"
   ]
  },
  {
   "cell_type": "markdown",
   "id": "8e44ad69",
   "metadata": {},
   "source": [
    "### Part 1. Gram Schmidt method\n",
    "\n",
    "Suppose that matrix $\\boldsymbol{A}$ has the following form:\n",
    "$$\n",
    "\\boldsymbol{A} = \\left[ \\boldsymbol{A}^{[1]},\\boldsymbol{A}^{[2]},\\dots,\\boldsymbol{A}^{[n]} \\right]\n",
    "$$\n",
    "\n",
    "We first define $\\boldsymbol{Q}^{[1]} := \\hat{\\boldsymbol{A}}^{[1]}$. For each $k=2,\\dots,n$ we evaluate:\n",
    "$$\n",
    "\\boldsymbol{q}^{[k]} = \\boldsymbol{A}^{[k]} - \\sum_{i=1}^{k-1} \\langle \\boldsymbol{A}^{[k]},\\boldsymbol{Q}^{[i]} \\rangle \\boldsymbol{Q}^{[i]}, \\; \\; \\; \\boldsymbol{Q}^{[k]} = \\hat{\\boldsymbol{q}}^{[k]}\n",
    "$$\n",
    "\n",
    "We define another matrix $\\boldsymbol{R}$ as follows:\n",
    "$$\n",
    "\\boldsymbol{R}_{i,k} = \\begin{cases}\n",
    "\\langle \\boldsymbol{A}^{[k]}, \\boldsymbol{Q}^{[i]} \\rangle, \\; i < k \\\\\n",
    "\\|\\boldsymbol{q}^{[k]}\\|_2, \\; i=k \\\\\n",
    "0, i>k\n",
    "\\end{cases}\n",
    "$$\n",
    "\n",
    "This way, our matrix is decomposed as follows:\n",
    "$$\n",
    "\\boldsymbol{A} = \\boldsymbol{QR}\n",
    "$$"
   ]
  },
  {
   "cell_type": "code",
   "execution_count": 53,
   "id": "2b85d168",
   "metadata": {},
   "outputs": [],
   "source": [
    "def gram_schmidt_qr(A):\n",
    "    \"\"\"\n",
    "    Input:\n",
    "    A - square matrix\n",
    "    \n",
    "    Output:\n",
    "    Q, R - matrices in QR decomposition\n",
    "    \"\"\"\n",
    "    n = len(A) # Matrix size\n",
    "    Q_cols = [A[:, 0] / np.linalg.norm(A[:, 0])] # Columns of matrix Q\n",
    "    Q_lens = [np.linalg.norm(A[:, 0])] # Lengths ||Qi||\n",
    "    \n",
    "    # Finding Q_cols and Q_lens\n",
    "    for k in range(1, n):\n",
    "        Ak = A[:, k] # Taking the kth column of A\n",
    "        qk = Ak - np.sum([Ak.dot(q)*q for q in Q_cols], axis=0) # Finding q_k according to formula above\n",
    "        Q_cols.append(qk / np.linalg.norm(qk)) # Adding normalized q_k to the array of Q_cols\n",
    "        Q_lens.append(np.linalg.norm(qk)) # Adding norm of q_k to the array of Q_lens\n",
    "    \n",
    "    Q = np.column_stack(Q_cols) # Building a matrix based on vector columns\n",
    "    R = np.zeros(shape=(n, n)) # Initializing a matrix R\n",
    "    \n",
    "    # Finding matrix R\n",
    "    for i in range(n):\n",
    "        for k in range(n):\n",
    "            if i > k: # R_{i,k} = 0 if i > k\n",
    "                R[i][k] = 0\n",
    "                continue\n",
    "            # if i<k, R_{i,k} = <A^k, Q^i>, otherwise ||q_k||\n",
    "            R[i][k] = A[:, k].dot(Q_cols[i]) if i < k else Q_lens[k]\n",
    "    return Q, R"
   ]
  },
  {
   "cell_type": "code",
   "execution_count": 54,
   "id": "76075954",
   "metadata": {},
   "outputs": [
    {
     "name": "stdout",
     "output_type": "stream",
     "text": [
      "Using Gram Schmidt method we obtain Q =\n",
      "[[ 0.485 -0.566 -0.667]\n",
      " [ 0.485  0.808 -0.333]\n",
      " [ 0.728 -0.162  0.667]]\n",
      "Using Gram Schmidt method we obtain R =\n",
      "[[ 4.123  3.395  0.97 ]\n",
      " [ 0.     2.91  -2.506]\n",
      " [ 0.     0.     4.333]]\n"
     ]
    }
   ],
   "source": [
    "Q, R = gram_schmidt_qr(A)\n",
    "print(\"Using Gram Schmidt method we obtain Q =\\n{}\".format(Q))\n",
    "print(\"Using Gram Schmidt method we obtain R =\\n{}\".format(R))"
   ]
  },
  {
   "cell_type": "markdown",
   "id": "9edb1dc5",
   "metadata": {},
   "source": [
    "### Part 2. Reflection method"
   ]
  },
  {
   "cell_type": "code",
   "execution_count": 55,
   "id": "65ac8ecd",
   "metadata": {},
   "outputs": [],
   "source": [
    "def reflection_qr(M):\n",
    "    \"\"\"\n",
    "    Input:\n",
    "    M - square matrix\n",
    "    \n",
    "    Output:\n",
    "    Q, R - matrices in QR decomposition\n",
    "    \"\"\"\n",
    "    n = len(M) # Size of matrix M\n",
    "    A = M.copy() # Copying the matrix M\n",
    "    Q = np.identity(n) # Initializing Q = E\n",
    "    \n",
    "    for k in range(n-1):\n",
    "        v = A[:,k].copy() # Taking a kth column of matrix A\n",
    "        v[:k] = 0 # Making 0 on all position below kth (or above if we consider v as a vector)\n",
    "        v[k] = v[k] - np.linalg.norm(v, 2)  # From the element a_{k,k} we subtract norm of v\n",
    "        v = v / np.linalg.norm(v, 2) # Normalizing vector v\n",
    "        Q = Q - 2 * Q.dot(v.reshape(n,1)).dot(v.reshape(1,n)) # Finding Q_{k+1} = Q_k - 2Q_k*v*v^T\n",
    "        A = A - 2 * v.reshape(n,1).dot(v.reshape(1,n)).dot(A) # Finding A_{k+1} = A_k - 2v*v^T*A_k\n",
    "    return Q, A"
   ]
  },
  {
   "cell_type": "code",
   "execution_count": 56,
   "id": "46125773",
   "metadata": {},
   "outputs": [
    {
     "name": "stdout",
     "output_type": "stream",
     "text": [
      "Using Reflection method we obtain Q =\n",
      "[[ 0.485 -0.566 -0.667]\n",
      " [ 0.485  0.808 -0.333]\n",
      " [ 0.728 -0.162  0.667]]\n",
      "Using Reflection method we obtain R =\n",
      "[[ 4.123  3.395  0.97 ]\n",
      " [ 0.     2.91  -2.506]\n",
      " [ 0.     0.     4.333]]\n"
     ]
    }
   ],
   "source": [
    "Q, R = reflection_qr(A)\n",
    "print(\"Using Reflection method we obtain Q =\\n{}\".format(Q))\n",
    "print(\"Using Reflection method we obtain R =\\n{}\".format(R))"
   ]
  }
 ],
 "metadata": {
  "kernelspec": {
   "display_name": "newest",
   "language": "python",
   "name": "newest"
  },
  "language_info": {
   "codemirror_mode": {
    "name": "ipython",
    "version": 3
   },
   "file_extension": ".py",
   "mimetype": "text/x-python",
   "name": "python",
   "nbconvert_exporter": "python",
   "pygments_lexer": "ipython3",
   "version": "3.10.4"
  }
 },
 "nbformat": 4,
 "nbformat_minor": 5
}
