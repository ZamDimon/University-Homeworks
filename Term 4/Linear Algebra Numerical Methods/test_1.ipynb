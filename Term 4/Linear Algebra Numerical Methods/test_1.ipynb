{
 "cells": [
  {
   "cell_type": "markdown",
   "id": "b09fc4eb",
   "metadata": {},
   "source": [
    "## Test \\#1\n",
    "\n",
    "**Task.**\n",
    "1. Make up an arbitrary matrix $\\boldsymbol{A} \\in \\mathbb{R}^4$.\n",
    "2. Localize its spectrum $\\sigma(\\boldsymbol{A})$ using _Gershgorin Circle Theorem_.\n",
    "3. Find its eigenvalues using _Power Method_ and its modifications: power method with offset, inverse power method etc."
   ]
  },
  {
   "cell_type": "markdown",
   "id": "190944ce",
   "metadata": {},
   "source": [
    "### Task 1.\n",
    "\n",
    "We will go another way around: we first define a diagonal matrix containing all eigenvalues: \n",
    "$$\\boldsymbol{\\Lambda} := \\text{diag}(\\lambda_1,\\lambda_2,\\lambda_3,\\lambda_4)$$\n",
    "\n",
    "And then change basis using some matrix $\\boldsymbol{T}$, that is:\n",
    "$$\n",
    "\\boldsymbol{A} = \\boldsymbol{T}\\boldsymbol{\\Lambda}\\boldsymbol{T}^{-1}\n",
    "$$\n",
    "\n",
    "Then, columns of matrix $\\boldsymbol{T}$ will be eigenvectors of matrix $\\boldsymbol{A}$ and eigenvalues of $\\boldsymbol{A}$ would be $\\lambda_1,\\dots,\\lambda_4$. "
   ]
  },
  {
   "cell_type": "code",
   "execution_count": 238,
   "id": "4c817e3e",
   "metadata": {},
   "outputs": [
    {
     "name": "stdout",
     "output_type": "stream",
     "text": [
      "1.0\n",
      "Matrix R is [[ 0.75367515 -0.5        -0.22414387 -0.36295082]\n",
      " [ 0.43513455  0.8660254  -0.12940952 -0.20954975]\n",
      " [-0.14191339  0.          0.6830127  -0.71648743]\n",
      " [ 0.47169088  0.          0.6830127   0.55767496]]\n",
      "Matrix A is [[ 1.74568084 -0.14683123  0.47396289 -0.91341197]\n",
      " [-0.14683123  1.91522695  0.2736426  -0.52735865]\n",
      " [ 0.47396289  0.2736426   3.47307542 -0.2656886 ]\n",
      " [-0.91341197 -0.52735865 -0.2656886   2.86601679]]\n"
     ]
    }
   ],
   "source": [
    "import numpy as np\n",
    "\n",
    "# Define eigenvalues\n",
    "eigenvalues = [1.0, 2.0, 3.0, 4.0]\n",
    "# Forming a diagonal matrix based on a set of selected eigenvalues\n",
    "L = np.diag(eigenvalues)\n",
    "# Making up some rotation matrices:\n",
    "R1 = np.array([\n",
    "    [np.cos(np.pi/6), -np.sin(np.pi/6), 0, 0],\n",
    "    [np.sin(np.pi/6), np.cos(np.pi/6), 0, 0],\n",
    "    [0, 0, 1, 0],\n",
    "    [0, 0, 0, 1]\n",
    "])\n",
    "R2 = np.array([\n",
    "    [1, 0, 0, 0],\n",
    "    [0, 1, 0, 0],\n",
    "    [0, 0, np.cos(np.pi/4), -np.sin(np.pi/4)],\n",
    "    [0, 0, np.sin(np.pi/4), np.cos(np.pi/4)]\n",
    "])\n",
    "R3 = np.array([\n",
    "    [np.cos(np.pi/12), 0, -np.sin(np.pi/12), 0],\n",
    "    [0, 1, 0, 0],\n",
    "    [np.sin(np.pi/12), 0, np.cos(np.pi/12), 0],\n",
    "    [0, 0, 0, 1]\n",
    "])\n",
    "R4 = np.array([\n",
    "    [np.cos(np.pi/7), 0, 0, -np.sin(np.pi/7)],\n",
    "    [0, 1, 0, 0],\n",
    "    [0, 0, 1, 0],\n",
    "    [np.sin(np.pi/7), 0, 0, np.cos(np.pi/7)]\n",
    "])\n",
    "# Total rotation matrix:\n",
    "R = R1.dot(R2).dot(R3).dot(R4)\n",
    "\n",
    "# Finding inverse:\n",
    "print(np.linalg.det(R))\n",
    "R_inverse = np.linalg.inv(R)\n",
    "\n",
    "# Finally, finding matrix A\n",
    "A = R.dot(L).dot(R_inverse)\n",
    "print('Matrix R is', R)\n",
    "print('Matrix A is', A)"
   ]
  },
  {
   "cell_type": "code",
   "execution_count": 220,
   "id": "8503ec69",
   "metadata": {},
   "outputs": [
    {
     "name": "stdout",
     "output_type": "stream",
     "text": [
      "Eigenvalues of A are\n",
      " [1. 4. 2. 3.]\n",
      "Eigenvectors of A are\n",
      " [[ 7.53675147e-01  3.62950822e-01 -5.00000000e-01 -2.24143868e-01]\n",
      " [ 4.35134549e-01  2.09549755e-01  8.66025404e-01 -1.29409523e-01]\n",
      " [-1.41913387e-01  7.16487432e-01 -1.34763471e-16  6.83012702e-01]\n",
      " [ 4.71690881e-01 -5.57674961e-01 -8.28554796e-17  6.83012702e-01]]\n"
     ]
    }
   ],
   "source": [
    "# Verifying that eigenvalues and eigenvectors are indeed those we specified:\n",
    "test_eigvals, test_eigvectors = np.linalg.eig(A)\n",
    "print('Eigenvalues of A are\\n', test_eigvals)\n",
    "print('Eigenvectors of A are\\n', test_eigvectors)"
   ]
  },
  {
   "cell_type": "markdown",
   "id": "febdf540",
   "metadata": {},
   "source": [
    "### Task 2.\n",
    "\n",
    "**Theorem**. Consider circles on the complex plane:\n",
    "$$\n",
    "K_i = \\left\\{ z \\in \\mathbb{C}: |z-a_{i,i}| \\leq \\sum_{i \\neq j}|a_{i,j}| \\right\\}, \\; i = \\overline{1,n}\n",
    "$$\n",
    "\n",
    "Then $\\sigma(\\boldsymbol{A}) \\subset \\bigcup_{i=1}^n K_i$"
   ]
  },
  {
   "cell_type": "code",
   "execution_count": 248,
   "id": "42227ff0",
   "metadata": {},
   "outputs": [],
   "source": [
    "import matplotlib.pyplot as plt\n",
    "\n",
    "def print_gershgorin_circles(A, ax, color='blue'):\n",
    "    \"\"\"\n",
    "    Function that draws gershgorin circles and eigenvalues of a given matrix A\n",
    "    \n",
    "    Input:\n",
    "    A - matrix\n",
    "    ax - plt.figure\n",
    "    color - (optional) color of circles\n",
    "    \n",
    "    Output:\n",
    "    Drawn figure with circles and eigenvalues\n",
    "    \"\"\"\n",
    "    n = len(A) # Dimensionality of A\n",
    "    # Find radiuses\n",
    "    radiuses = np.sum(np.abs(A),axis=1) - np.abs(np.diagonal(A))\n",
    "    # Find eigenvalues to test solution\n",
    "    eigenvalues = np.linalg.eigvals(A)\n",
    "    for i in range(n):\n",
    "        circle = plt.Circle((A[i,i], 0), radiuses[i], color=color, fill=False, linewidth=2.5)\n",
    "        ax.add_patch(circle)\n",
    "        ax.plot(eigenvalues[i].real, eigenvalues[i].imag, 'r+', markersize=12, mew=3)"
   ]
  },
  {
   "cell_type": "code",
   "execution_count": 249,
   "id": "7ca1dcfd",
   "metadata": {},
   "outputs": [
    {
     "data": {
      "image/png": "[encoded data removed]",
      "text/plain": [
       "<Figure size 864x648 with 1 Axes>"
      ]
     },
     "metadata": {
      "needs_background": "light"
     },
     "output_type": "display_data"
    }
   ],
   "source": [
    "import numpy as np\n",
    "import matplotlib.pyplot as plt\n",
    "\n",
    "fig = plt.figure(figsize=(12,9))\n",
    "ax = fig.add_subplot()\n",
    "ax.set_aspect('equal')\n",
    "ax.grid()\n",
    "\n",
    "# Green circles are Gershgorin circles for a tranposed matrix, whereas blue ones for a non-tranposed one\n",
    "print_gershgorin_circles(A, ax, color='blue')"
   ]
  },
  {
   "cell_type": "markdown",
   "id": "8640b00f",
   "metadata": {},
   "source": [
    "### Task 3.\n",
    "\n",
    "**Power Method**. We apply the following steps to get the largest eigenvalue:\n",
    "\n",
    "_Step 0._ Pick random $\\boldsymbol{x}^{[0]} \\neq \\boldsymbol{\\theta}$.\n",
    "\n",
    "_Step $k$._ Find:\n",
    "$$\n",
    "\\boldsymbol{y}^{[k]} = \\boldsymbol{A}\\boldsymbol{x}^{[k-1]}, \\; \\boldsymbol{x}^{[k]} = \\frac{\\boldsymbol{y}^{[k]}}{\\|\\boldsymbol{y}^{[k]}\\|}\n",
    "$$\n",
    "\n",
    "After sufficiently large number of steps:\n",
    "$$\n",
    "\\lambda_1 \\approx \\frac{\\langle \\boldsymbol{y}^{[k]}, \\boldsymbol{x}^{[k]} \\rangle}{\\langle \\boldsymbol{x}^{[k]},\\boldsymbol{x}^{[k]} \\rangle}, \\; \\boldsymbol{v}_1 \\approx \\boldsymbol{x}^{[k]}\n",
    "$$"
   ]
  },
  {
   "cell_type": "code",
   "execution_count": 223,
   "id": "3312277c",
   "metadata": {},
   "outputs": [
    {
     "name": "stdout",
     "output_type": "stream",
     "text": [
      "Largest eigenvalue is 4.0\n",
      "Corresponding eigenvector is [ 0.36295082  0.20954975  0.71648744 -0.55767496]\n",
      "Number of steps taken is 66\n"
     ]
    }
   ],
   "source": [
    "def power_method(A, accuracy=10**-8):\n",
    "    \"\"\"\n",
    "    power_method is a function that finds the largest eigenvalue of matrix A and corresponding eigenvector\n",
    "    \n",
    "    Input:\n",
    "    A - numpy array of shape (n,n)\n",
    "    \n",
    "    Output:\n",
    "    l, v, n - eigenvalue, eigenvector, and number of steps taken, respectively\n",
    "    \"\"\"\n",
    "    \n",
    "    n = len(A) # Matrix size\n",
    "    max_steps_number = 1000\n",
    "    steps = 0\n",
    "    x = np.ones((n,))\n",
    "    for i in range(max_steps_number):\n",
    "        y = A.dot(x)\n",
    "        r = np.linalg.norm(y - y.dot(x)*x)\n",
    "        if r < accuracy:\n",
    "            steps = i\n",
    "            break\n",
    "        x = y/np.linalg.norm(y)\n",
    "    l = A.dot(x).dot(x)/(x.dot(x))\n",
    "    return l, x, steps\n",
    "\n",
    "eig_val, eig_vec, steps = power_method(A)\n",
    "print('Largest eigenvalue is', eig_val)\n",
    "print('Corresponding eigenvector is', eig_vec)\n",
    "print('Number of steps taken is', steps)"
   ]
  },
  {
   "cell_type": "markdown",
   "id": "d01295cb",
   "metadata": {},
   "source": [
    "**Power offset method**. Suppose that power method is represented via a function $p(\\boldsymbol{A})$ which returns an eigenvalue based on given matrix $\\boldsymbol{A}$. Then, power offset method is essentially a function:\n",
    "$$\n",
    "p_{\\alpha}(\\boldsymbol{A}) = p(\\boldsymbol{A} - \\alpha \\boldsymbol{E}) + \\alpha\n",
    "$$"
   ]
  },
  {
   "cell_type": "code",
   "execution_count": 225,
   "id": "506f42b4",
   "metadata": {},
   "outputs": [
    {
     "name": "stdout",
     "output_type": "stream",
     "text": [
      "Largest eigenvalue is 4.0\n",
      "Corresponding eigenvector is [ 0.36295082  0.20954976  0.71648743 -0.55767496]\n",
      "Number of steps taken is 30\n"
     ]
    }
   ],
   "source": [
    "def power_offset_method(A, offset, accuracy=10**-8):\n",
    "    \"\"\"\n",
    "    power_offset_method is a function that finds the largest \n",
    "    eigenvalue of matrix A and corresponding eigenvector using offset\n",
    "    \n",
    "    Input:\n",
    "    A - numpy array of shape (n,n)\n",
    "    offset - considered offset\n",
    "    \n",
    "    Output:\n",
    "    l, v, n - eigenvalue, eigenvector, and number of steps taken, respectively\n",
    "    \"\"\"\n",
    "    n = len(A)\n",
    "    l, v, n = power_method(A - offset*np.identity(n), accuracy=accuracy)\n",
    "    return l+offset, v, n\n",
    "\n",
    "eig_val, eig_vec, steps = power_offset_method(A, offset=2.0)\n",
    "print('Largest eigenvalue is', eig_val)\n",
    "print('Corresponding eigenvector is', eig_vec)\n",
    "print('Number of steps taken is', steps)"
   ]
  },
  {
   "cell_type": "markdown",
   "id": "d71b720f",
   "metadata": {},
   "source": [
    "**Power inverse method**. Similarly, if $p(\\boldsymbol{A})$ is a function that returns an eigenvalue using power method, inverse method essentially computes eigenvalue according to a function:\n",
    "$$\n",
    "\\hat{p}_{\\alpha}(\\boldsymbol{A}) = \\alpha + \\frac{1}{p((\\boldsymbol{A}-\\alpha\\boldsymbol{E})^{-1})}\n",
    "$$"
   ]
  },
  {
   "cell_type": "code",
   "execution_count": 235,
   "id": "989e97f1",
   "metadata": {},
   "outputs": [
    {
     "name": "stdout",
     "output_type": "stream",
     "text": [
      "Largest eigenvalue is 4.0\n",
      "Corresponding eigenvector is [ 0.36295082  0.20954975  0.71648743 -0.55767496]\n",
      "Number of steps taken is 18\n"
     ]
    }
   ],
   "source": [
    "def power_inverse_method(A, offset, accuracy=10**-8):\n",
    "    \"\"\"\n",
    "    power_inverse_method is a function that finds the \n",
    "    eigenvalue of matrix A and corresponding eigenvector using specified offset\n",
    "    \n",
    "    Input:\n",
    "    A - numpy array of shape (n,n)\n",
    "    offset - considered offset\n",
    "    \n",
    "    Output:\n",
    "    l, v, n - eigenvalue, eigenvector, and number of steps taken, respectively\n",
    "    \"\"\"\n",
    "    n = len(A)\n",
    "    modified_A = np.linalg.inv(A - offset * np.identity(n))\n",
    "    l, v, n = power_method(modified_A, accuracy=accuracy)\n",
    "    return offset + 1/l, v, n"
   ]
  },
  {
   "cell_type": "code",
   "execution_count": 236,
   "id": "7aeb70f4",
   "metadata": {},
   "outputs": [
    {
     "name": "stdout",
     "output_type": "stream",
     "text": [
      "Largest eigenvalue is 4.0\n",
      "Corresponding eigenvector is [ 0.36295082  0.20954975  0.71648743 -0.55767496]\n",
      "Number of steps taken is 18\n"
     ]
    }
   ],
   "source": [
    "eig_val, eig_vec, steps = power_inverse_method(A, offset=4.5)\n",
    "print('Largest eigenvalue is', eig_val)\n",
    "print('Corresponding eigenvector is', eig_vec)\n",
    "print('Number of steps taken is', steps)"
   ]
  },
  {
   "cell_type": "markdown",
   "id": "8dbb0755",
   "metadata": {},
   "source": [
    "### Finding the whole spectrum $\\sigma(\\boldsymbol{A})$"
   ]
  },
  {
   "cell_type": "code",
   "execution_count": 237,
   "id": "783a146f",
   "metadata": {},
   "outputs": [
    {
     "name": "stdout",
     "output_type": "stream",
     "text": [
      "Step #0: eigenvalue 1.0 and eigenvector [ 0.75367514  0.43513456 -0.14191339  0.47169088]\n",
      "Step #1: eigenvalue 1.0 and eigenvector [ 0.75367514  0.43513456 -0.14191339  0.47169088]\n",
      "Step #2: eigenvalue 1.0 and eigenvector [ 0.75367514  0.43513455 -0.14191339  0.47169088]\n",
      "Step #3: eigenvalue 1.0 and eigenvector [ 0.75367514  0.43513455 -0.14191339  0.47169088]\n",
      "Step #4: eigenvalue 1.0 and eigenvector [ 0.75367515  0.43513455 -0.14191339  0.47169088]\n",
      "Step #5: eigenvalue 1.0 and eigenvector [ 0.75367515  0.43513455 -0.14191339  0.47169088]\n",
      "Step #6: eigenvalue 1.0 and eigenvector [ 0.75367515  0.43513455 -0.14191339  0.47169088]\n",
      "Step #7: eigenvalue 1.0 and eigenvector [ 0.75367515  0.43513455 -0.14191339  0.47169088]\n",
      "Step #8: eigenvalue 1.0 and eigenvector [-0.75367515 -0.43513455  0.14191339 -0.47169088]\n",
      "Step #9: eigenvalue 0.9383211664777983 and eigenvector [ 0.61553259  0.62594714 -0.13796246  0.4585588 ]\n",
      "Step #10: eigenvalue 2.0 and eigenvector [-5.00000001e-01  8.66025403e-01  2.74171399e-10 -9.11288804e-10]\n",
      "Step #11: eigenvalue 2.0 and eigenvector [-4.99999999e-01  8.66025404e-01 -9.36793444e-11  3.23416849e-10]\n",
      "Step #12: eigenvalue 2.0 and eigenvector [-5.00000000e-01  8.66025404e-01  8.65721058e-17  1.55868524e-16]\n",
      "Step #13: eigenvalue 2.0 and eigenvector [-5.00000000e-01  8.66025404e-01  3.08678403e-10  3.12425326e-10]\n",
      "Step #14: eigenvalue 2.0 and eigenvector [ 5.00000000e-01 -8.66025404e-01  8.79773085e-10  8.79772995e-10]\n",
      "Step #15: eigenvalue 3.15034321675445 and eigenvector [-0.38078295  0.17273198  0.64232702  0.64232702]\n",
      "Step #16: eigenvalue 3.0 and eigenvector [-0.22414387 -0.12940952  0.6830127   0.6830127 ]\n",
      "Step #17: eigenvalue 3.0 and eigenvector [-0.22414387 -0.12940952  0.6830127   0.6830127 ]\n",
      "Step #18: eigenvalue 3.0 and eigenvector [-0.22414387 -0.12940952  0.6830127   0.6830127 ]\n",
      "Step #19: eigenvalue 3.0 and eigenvector [ 0.22414387  0.12940952 -0.6830127  -0.6830127 ]\n",
      "Step #20: eigenvalue 3.0 and eigenvector [ 0.22414387  0.12940952 -0.6830127  -0.6830127 ]\n",
      "Step #21: eigenvalue 1.9091582459596501 and eigenvector [0.03081849 0.01779307 0.97321061 0.22714474]\n",
      "Step #22: eigenvalue 4.0 and eigenvector [ 0.36295082  0.20954975  0.71648743 -0.55767496]\n",
      "Step #23: eigenvalue 4.0 and eigenvector [ 0.36295082  0.20954975  0.71648743 -0.55767496]\n",
      "Step #24: eigenvalue 4.0 and eigenvector [ 0.36295082  0.20954975  0.71648743 -0.55767496]\n",
      "Step #25: eigenvalue 4.0 and eigenvector [-0.36295082 -0.20954975 -0.71648743  0.55767496]\n",
      "Step #26: eigenvalue 4.0 and eigenvector [-0.36295082 -0.20954975 -0.71648743  0.55767496]\n",
      "Step #27: eigenvalue 4.0 and eigenvector [ 0.36295082  0.20954975  0.71648743 -0.55767496]\n",
      "Step #28: eigenvalue 4.0 and eigenvector [-0.36295082 -0.20954975 -0.71648744  0.55767496]\n",
      "Step #29: eigenvalue 4.0 and eigenvector [ 0.36295082  0.20954975  0.71648744 -0.55767496]\n"
     ]
    }
   ],
   "source": [
    "left_bound = 0\n",
    "right_bound = 5\n",
    "iterations = 30\n",
    "\n",
    "# Finding an iteration size\n",
    "iteration_size = (right_bound - left_bound) / iterations \n",
    "\n",
    "for i in range(30):\n",
    "    eig_val, eig_vec, _ = power_inverse_method(A, offset=left_bound + iteration_size*i)\n",
    "    print('Step #{}: eigenvalue {} and eigenvector {}'.format(i, eig_val, eig_vec))"
   ]
  },
  {
   "cell_type": "markdown",
   "id": "bb44c969",
   "metadata": {},
   "source": [
    "Thus we see $\\sigma(\\boldsymbol{A}) = \\{1,2,3,4\\}$. "
   ]
  },
  {
   "cell_type": "code",
   "execution_count": 250,
   "id": "0627c9ad",
   "metadata": {},
   "outputs": [],
   "source": [
    "def power_rayleigh_method(A, offset, accuracy=10**-8):\n",
    "    \"\"\"\n",
    "    power_rayleigh_method is a function that finds the \n",
    "    eigenvalue of matrix A and corresponding eigenvector using specified offset by rayleigh power method\n",
    "    \n",
    "    Input:\n",
    "    A - numpy array of shape (n,n)\n",
    "    offset - considered offset\n",
    "    \n",
    "    Output:\n",
    "    l, n - eigenvalue and number of steps taken, respectively\n",
    "    \"\"\"\n",
    "    max_steps_number = 1000 # Max number of steps after which we abort performing operations\n",
    "    alpha = offset # Initial value of alpha\n",
    "    n = len(A) # Size of a matrix\n",
    "    E = np.identity(n) # nxn identity matrix\n",
    "    steps = 0 # Number of steps needed to find eigenvalue\n",
    "    x = np.ones((n,))\n",
    "    \n",
    "    for i in range(max_steps_number):\n",
    "        y = np.linalg.solve(A - alpha*E, x)\n",
    "        x = y/np.linalg.norm(y)\n",
    "        Ax = A.dot(x)\n",
    "        alpha = Ax.dot(x)\n",
    "        r = np.linalg.norm(Ax - alpha*x)\n",
    "        if r < accuracy:\n",
    "            steps = i\n",
    "            break\n",
    "    return alpha, steps "
   ]
  },
  {
   "cell_type": "code",
   "execution_count": 251,
   "id": "7274869f",
   "metadata": {},
   "outputs": [
    {
     "name": "stdout",
     "output_type": "stream",
     "text": [
      "Largest eigenvalue is 4.0\n",
      "Number of steps taken is 4\n"
     ]
    }
   ],
   "source": [
    "eig_val, steps = power_rayleigh_method(A, offset=4.5)\n",
    "print('Largest eigenvalue is', eig_val)\n",
    "print('Number of steps taken is', steps)"
   ]
  }
 ],
 "metadata": {
  "kernelspec": {
   "display_name": "newest",
   "language": "python",
   "name": "newest"
  },
  "language_info": {
   "codemirror_mode": {
    "name": "ipython",
    "version": 3
   },
   "file_extension": ".py",
   "mimetype": "text/x-python",
   "name": "python",
   "nbconvert_exporter": "python",
   "pygments_lexer": "ipython3",
   "version": "3.10.4"
  }
 },
 "nbformat": 4,
 "nbformat_minor": 5
}
