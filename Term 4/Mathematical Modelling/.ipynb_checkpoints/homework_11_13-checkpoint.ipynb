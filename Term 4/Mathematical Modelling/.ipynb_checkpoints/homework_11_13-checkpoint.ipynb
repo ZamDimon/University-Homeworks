{
 "cells": [
  {
   "cell_type": "markdown",
   "id": "6ec66ca6",
   "metadata": {},
   "source": [
    "## Homework #11"
   ]
  },
  {
   "cell_type": "markdown",
   "id": "8af62f9a",
   "metadata": {},
   "source": [
    "We have an unlimited supply of stamps with values of $n_1,n_2,\\dots,n_k$. ($n_1<n_2<\\dots<n_k$). Calculate the number of ways $f(N)$ to pay the sum $N$ by pasting stamps in a row, if the supply of these stamps is unlimited, and two methods of pasting stamps, which differ in the order of placement of different stamps, are considered different.\n",
    "\n",
    "In that case, solution is \n",
    "$$\n",
    "f(N) = \\sum_{j=1}^k f(N-n_j)\n",
    "$$\n",
    "\n",
    "with conditions:\n",
    "$$\n",
    "f(0)=1, \\; \\; f(k) = 0 \\; \\forall k < 0\n",
    "$$"
   ]
  },
  {
   "cell_type": "code",
   "execution_count": 1,
   "id": "1ad3702e",
   "metadata": {},
   "outputs": [],
   "source": [
    "def fn_1(N: int, n: list) -> int:\n",
    "    if N == 0:\n",
    "        return 1\n",
    "    if N < 0:\n",
    "        return 0\n",
    "    return sum([fn_1(N-k, n) for k in n])"
   ]
  },
  {
   "cell_type": "markdown",
   "id": "db34843f",
   "metadata": {},
   "source": [
    "A student needs to score exactly $N$ points for $m$ exams, and $n_1,\\dots,n_k$ points can be scored for each of these exams. In how many ways can a student achieve his goal?\n",
    "Solution:\n",
    "$$\n",
    "f(m,N) = \\sum_{j=1}^k f(m-1,N-n_j)\n",
    "$$\n",
    "\n",
    "with:\n",
    "$$\n",
    "f(1,N) = \\boldsymbol{1}(N \\in \\{n_1,\\dots,n_k\\}), \\; f(0,N) \\equiv 0\n",
    "$$"
   ]
  },
  {
   "cell_type": "code",
   "execution_count": 2,
   "id": "f9b9b04f",
   "metadata": {},
   "outputs": [],
   "source": [
    "def fn_2(m: int, N: int, n: list) -> int:\n",
    "    if m <= 0:\n",
    "        return 0\n",
    "    if m == 1:\n",
    "        return N in n\n",
    "    return sum([fn_2(m-1, N-k, n) for k in n])"
   ]
  },
  {
   "cell_type": "markdown",
   "id": "4312eefb",
   "metadata": {},
   "source": [
    "There are coins in the denomination of $n_1,\\dots,n_k$ in the wallet, one needs to pay the amount of $N$ coins, if\n",
    "- **A.** There is only one coin of each denomination\n",
    "- **B.** The supply of coins is unlimited\n",
    "\n",
    "Solution to problem A is\n",
    "$$\n",
    "f(n_1,\\dots,n_k;N) = f(n_1,\\dots,n_{k-1};N-n_k)+f(n_1,\\dots,n_{k-1};N)\n",
    "$$"
   ]
  },
  {
   "cell_type": "code",
   "execution_count": 3,
   "id": "9b0afaaa",
   "metadata": {},
   "outputs": [],
   "source": [
    "def fn_3(n: list, N: int) -> int:\n",
    "    if N == 0:\n",
    "        return 1\n",
    "    if N < 0:\n",
    "        return 0\n",
    "    if len(n) == 0:\n",
    "        return int(N == 0)\n",
    "    return fn_3(n[:-1], N-n[-1]) + fn_3(n[:-1], N)"
   ]
  },
  {
   "cell_type": "markdown",
   "id": "3aca4cb4",
   "metadata": {},
   "source": [
    "Solution to problem B is\n",
    "$$\n",
    "f(n_1,\\dots,n_k;N) = f(n_1,\\dots,n_k;N-n_k) + f(n_1,\\dots,n_{k-1};N)\n",
    "$$"
   ]
  },
  {
   "cell_type": "code",
   "execution_count": 4,
   "id": "7d76d0d8",
   "metadata": {},
   "outputs": [],
   "source": [
    "def fn_4(n: list, N: int) -> int:\n",
    "    if N == 0:\n",
    "        return 1\n",
    "    if N < 0:\n",
    "        return 0\n",
    "    if len(n) == 0:\n",
    "        return 1 if N == 0 else 0\n",
    "    return fn_4(n,N-n[-1]) + fn_4(n[:-1],N)"
   ]
  },
  {
   "cell_type": "markdown",
   "id": "9e52cb1f",
   "metadata": {},
   "source": [
    "### Problem 1"
   ]
  },
  {
   "cell_type": "code",
   "execution_count": 5,
   "id": "81e8d642",
   "metadata": {},
   "outputs": [
    {
     "name": "stdout",
     "output_type": "stream",
     "text": [
      "Answer to problem 1 is f(4,17) = 16\n"
     ]
    }
   ],
   "source": [
    "print('Answer to problem 1 is f(4,17) = {}'.format(fn_2(4,17,[3,4,5])))"
   ]
  },
  {
   "cell_type": "markdown",
   "id": "3d8a416c",
   "metadata": {},
   "source": [
    "### Problem 2"
   ]
  },
  {
   "cell_type": "code",
   "execution_count": 12,
   "id": "50ecc149",
   "metadata": {},
   "outputs": [
    {
     "name": "stdout",
     "output_type": "stream",
     "text": [
      "Answer to problem 2 is f(4,17)+f(4,18)+f(4,19)+f(4,20)=31\n"
     ]
    }
   ],
   "source": [
    "hw_11_problem_2 = fn_2(4,17,[3,4,5])+fn_2(4,18,[3,4,5])+fn_2(4,19,[3,4,5])+fn_2(4,20,[3,4,5])\n",
    "print('Answer to problem 2 is f(4,17)+f(4,18)+f(4,19)+f(4,20)={}'.format(hw_11_problem_2))"
   ]
  },
  {
   "cell_type": "markdown",
   "id": "6e4f021e",
   "metadata": {},
   "source": [
    "### Problem 3"
   ]
  },
  {
   "cell_type": "code",
   "execution_count": 13,
   "id": "33622f62",
   "metadata": {},
   "outputs": [
    {
     "name": "stdout",
     "output_type": "stream",
     "text": [
      "Answer to problem 3 is f(18) = 8\n"
     ]
    }
   ],
   "source": [
    "print('Answer to problem 3 is f(18) = {}'.format(fn_1(18, [4,6,10])))"
   ]
  },
  {
   "cell_type": "markdown",
   "id": "d5f6b8e4",
   "metadata": {},
   "source": [
    "### Problem 4"
   ]
  },
  {
   "cell_type": "code",
   "execution_count": 14,
   "id": "c603ade4",
   "metadata": {},
   "outputs": [
    {
     "name": "stdout",
     "output_type": "stream",
     "text": [
      "Answer to problem 4 is f(1,2,3,5,10,15,20,50;73)=4\n"
     ]
    }
   ],
   "source": [
    "hw_11_problem_4 = fn_3([1,2,3,5,10,15,20,50],73)\n",
    "print('Answer to problem 4 is f(1,2,3,5,10,15,20,50;73)={}'.format(hw_11_problem_4))"
   ]
  },
  {
   "cell_type": "markdown",
   "id": "2b65faa6",
   "metadata": {},
   "source": [
    "### Problem 5"
   ]
  },
  {
   "cell_type": "code",
   "execution_count": 15,
   "id": "a095d61f",
   "metadata": {},
   "outputs": [
    {
     "name": "stdout",
     "output_type": "stream",
     "text": [
      "Answer to problem 5 is f(1,2,3,5;10)=20\n"
     ]
    }
   ],
   "source": [
    "hw_11_problem_5 = fn_4([1,2,3,5],10)\n",
    "print('Answer to problem 5 is f(1,2,3,5;10)={}'.format(hw_11_problem_5))"
   ]
  },
  {
   "cell_type": "markdown",
   "id": "6e815fe7",
   "metadata": {},
   "source": [
    "## Homework #13"
   ]
  },
  {
   "cell_type": "markdown",
   "id": "f36cb1d1",
   "metadata": {},
   "source": [
    "### Problem 1"
   ]
  },
  {
   "cell_type": "code",
   "execution_count": 16,
   "id": "6798a7db",
   "metadata": {},
   "outputs": [
    {
     "name": "stdout",
     "output_type": "stream",
     "text": [
      "Answer to problem 1 is 108\n"
     ]
    }
   ],
   "source": [
    "hw_13_problem_1 = fn_1(40,[5,10,15,20])\n",
    "print('Answer to problem 1 is {}'.format(hw_13_problem_1))"
   ]
  },
  {
   "cell_type": "markdown",
   "id": "4c95c845",
   "metadata": {},
   "source": [
    "### Problem 2"
   ]
  },
  {
   "cell_type": "code",
   "execution_count": 17,
   "id": "25347904",
   "metadata": {},
   "outputs": [
    {
     "name": "stdout",
     "output_type": "stream",
     "text": [
      "Answer to problem 2 is 841\n"
     ]
    }
   ],
   "source": [
    "hw_13_problem_2 = fn_1(100, [10,15,20,50])\n",
    "print('Answer to problem 2 is {}'.format(hw_13_problem_2))"
   ]
  },
  {
   "cell_type": "markdown",
   "id": "af068bcb",
   "metadata": {},
   "source": [
    "### Problem 3"
   ]
  },
  {
   "cell_type": "code",
   "execution_count": 18,
   "id": "1bfebfb0",
   "metadata": {},
   "outputs": [
    {
     "name": "stdout",
     "output_type": "stream",
     "text": [
      "Answer to problem 3 is 4\n"
     ]
    }
   ],
   "source": [
    "hw_13_problem_3 = fn_3([1,1,2,5,10,10,20,50],78)\n",
    "print('Answer to problem 3 is {}'.format(hw_13_problem_3))"
   ]
  },
  {
   "cell_type": "code",
   "execution_count": null,
   "id": "d4123c63",
   "metadata": {},
   "outputs": [],
   "source": []
  }
 ],
 "metadata": {
  "kernelspec": {
   "display_name": "Python 3 (ipykernel)",
   "language": "python",
   "name": "python3"
  },
  "language_info": {
   "codemirror_mode": {
    "name": "ipython",
    "version": 3
   },
   "file_extension": ".py",
   "mimetype": "text/x-python",
   "name": "python",
   "nbconvert_exporter": "python",
   "pygments_lexer": "ipython3",
   "version": "3.9.12"
  }
 },
 "nbformat": 4,
 "nbformat_minor": 5
}
