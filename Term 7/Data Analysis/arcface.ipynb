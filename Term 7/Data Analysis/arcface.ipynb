{
 "cells": [
  {
   "cell_type": "code",
   "execution_count": 81,
   "id": "dacec53d-9dc4-48ad-a129-75be2a9f495a",
   "metadata": {},
   "outputs": [
    {
     "name": "stdout",
     "output_type": "stream",
     "text": [
      "cpu\n"
     ]
    }
   ],
   "source": [
    "import torch\n",
    "import torch.nn.functional as F\n",
    "\n",
    "from torch import nn, optim\n",
    "from torch.utils.data import DataLoader\n",
    "from torchvision import transforms as T, datasets\n",
    "\n",
    "import math\n",
    "import numpy as np\n",
    "import pandas as pd\n",
    "import matplotlib.pyplot as plt\n",
    "import plotly.express as px\n",
    "\n",
    "from tqdm.notebook import tqdm\n",
    "from sklearn.manifold import TSNE\n",
    "\n",
    "device = torch.device('mps' if torch.cuda.is_available() else 'cpu')\n",
    "print(device)"
   ]
  },
  {
   "cell_type": "code",
   "execution_count": 82,
   "id": "85be92b4-f8c0-4ed4-a5d5-3df66d0e034c",
   "metadata": {},
   "outputs": [],
   "source": [
    "train_dataset = datasets.MNIST(root='./sample_data', train=True, transform=T.ToTensor(), download=True)\n",
    "test_dataset = datasets.MNIST(root='./sample_data', train=False, transform=T.ToTensor(), download=True)\n",
    "\n",
    "train_loader = DataLoader(train_dataset, batch_size=64, shuffle=True)\n",
    "test_loader = DataLoader(test_dataset, batch_size=64, shuffle=True)"
   ]
  },
  {
   "cell_type": "code",
   "execution_count": 87,
   "id": "f6770123-8128-4a0e-9e4a-b5c7e6e9d219",
   "metadata": {},
   "outputs": [],
   "source": [
    "import math\n",
    "\n",
    "class ArcFaceLoss(nn.Module):\n",
    "    def __init__(self, num_classes, embedding_dim, scale=30.0, margin=0.50):\n",
    "        super().__init__()\n",
    "        self.num_classes = num_classes\n",
    "        self.embedding_dim = embedding_dim\n",
    "        self.scale = scale  # Scaling factor\n",
    "        self.margin = margin  # Angular margin (default 0.5)\n",
    "        \n",
    "        # Learnable weight matrix (class centers)\n",
    "        self.weights = nn.Parameter(torch.randn(num_classes, embedding_dim))\n",
    "        nn.init.xavier_uniform_(self.weights)\n",
    "\n",
    "    def forward(self, embeddings, labels):\n",
    "        # Normalize embeddings and weight vectors (L2 norm)\n",
    "        embeddings = F.normalize(embeddings, p=2, dim=1)\n",
    "        weights = F.normalize(self.weights, p=2, dim=1)\n",
    "        \n",
    "        # Compute cosine similarity\n",
    "        logits = embeddings @ weights.T  # Shape: (batch_size, num_classes)\n",
    "        theta = torch.acos(torch.clamp(logits, -1.0, 1.0))  # Convert to angle\n",
    "\n",
    "        # Add angular margin to the correct class\n",
    "        logits_with_margin = torch.cos(theta + self.margin)\n",
    "\n",
    "        # Scale logits\n",
    "        logits_scaled = self.scale * logits_with_margin\n",
    "\n",
    "        # Cross-entropy loss\n",
    "        loss = F.cross_entropy(logits_scaled, labels)\n",
    "        return loss"
   ]
  },
  {
   "cell_type": "code",
   "execution_count": null,
   "id": "ba869693-c420-43f4-8124-cc449ace3e0b",
   "metadata": {},
   "outputs": [],
   "source": []
  }
 ],
 "metadata": {
  "kernelspec": {
   "display_name": "Python 3 (ipykernel)",
   "language": "python",
   "name": "python3"
  },
  "language_info": {
   "codemirror_mode": {
    "name": "ipython",
    "version": 3
   },
   "file_extension": ".py",
   "mimetype": "text/x-python",
   "name": "python",
   "nbconvert_exporter": "python",
   "pygments_lexer": "ipython3",
   "version": "3.11.11"
  }
 },
 "nbformat": 4,
 "nbformat_minor": 5
}
